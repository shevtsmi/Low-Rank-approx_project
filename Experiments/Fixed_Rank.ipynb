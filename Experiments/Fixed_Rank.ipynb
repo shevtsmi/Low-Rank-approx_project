{
 "cells": [
  {
   "cell_type": "code",
   "execution_count": null,
   "metadata": {},
   "outputs": [],
   "source": [
    "import numpy as np\n",
    "import math\n",
    "import os,sys,inspect\n",
    "import random\n",
    "import matplotlib.pyplot as plt\n",
    "import pandas as pd\n",
    "\n",
    "currentdir = os.path.dirname(os.path.abspath(inspect.getfile(inspect.currentframe())))\n",
    "parentdir = os.path.dirname(currentdir)\n",
    "sys.path.insert(0,parentdir) \n",
    "\n",
    "from Algorithm_2 import Algorithm_2, GetCoFromEigen\n",
    "from Algorithm_3 import Algorithm_3\n",
    "from func.Select_Index import Select_Columns, Select_Rows, Select_Ind\n",
    "from func.Summation_Alg import GetCoFromEigen\n",
    "\n",
    "import itertools \n",
    "from itertools import combinations, chain \n",
    "\n",
    "def findsubsets(r, n): \n",
    "    s = range(0, n)\n",
    "    return list(itertools.combinations(s, r)) \n",
    "\n",
    "def Check_Best_CUR(A, k):\n",
    "    \n",
    "    ans = math.inf\n",
    "    columns = []\n",
    "    rows = []\n",
    "    \n",
    "    m = A.shape[0]\n",
    "    n = A.shape[1]\n",
    "    \n",
    "    Cols = findsubsets(k, n)\n",
    "    Rows = findsubsets(k, m)\n",
    "    \n",
    "    for col__ in Cols:\n",
    "        for row__ in Rows:\n",
    "            \n",
    "            col = list(col__)\n",
    "            row = list(row__)\n",
    "            \n",
    "            C  = Select_Columns(A, col)\n",
    "            R  = Select_Rows(A, row)\n",
    "            U = np.linalg.pinv(C) @ A @ np.linalg.pinv(R)\n",
    "            \n",
    "            norm = np.linalg.norm(A - C @ U @ R,'fro')\n",
    "            if(norm < ans):\n",
    "                ans = norm\n",
    "                columns = col\n",
    "                rows = row\n",
    "            \n",
    "    return ans, columns, rows"
   ]
  },
  {
   "cell_type": "code",
   "execution_count": null,
   "metadata": {},
   "outputs": [],
   "source": [
    "def GetKRank(m, n, k, a, b, distr):\n",
    "    Z = np.zeros((m,n))\n",
    "    for i in range(k):\n",
    "        Z[i][i] = distr(a, b)\n",
    "    U = np.random.uniform(a,b, (m,m))\n",
    "    U = U @ U.T\n",
    "    V = np.random.uniform(a,b, (n,n))\n",
    "    V = V @ V.T\n",
    "    return U @ Z @ V"
   ]
  },
  {
   "cell_type": "code",
   "execution_count": 7,
   "metadata": {},
   "outputs": [
    {
     "name": "stdout",
     "output_type": "stream",
     "text": [
      "5\n",
      "6\n"
     ]
    },
    {
     "name": "stderr",
     "output_type": "stream",
     "text": [
      "/home/zyl/GitKraken_Active/Low-Rank-approx_project/Algorithm_2.py:54: RuntimeWarning: overflow encountered in cdouble_scalars\n",
      "  ratio = up/down\n",
      "/home/zyl/GitKraken_Active/Low-Rank-approx_project/Algorithm_2.py:54: RuntimeWarning: invalid value encountered in cdouble_scalars\n",
      "  ratio = up/down\n"
     ]
    },
    {
     "name": "stdout",
     "output_type": "stream",
     "text": [
      "7\n",
      "8\n",
      "9\n",
      "10\n",
      "11\n",
      "12\n",
      "13\n",
      "14\n",
      "15\n",
      "16\n",
      "17\n",
      "18\n",
      "19\n",
      "5\n",
      "6\n",
      "7\n"
     ]
    },
    {
     "name": "stderr",
     "output_type": "stream",
     "text": [
      "/home/zyl/GitKraken_Active/Low-Rank-approx_project/Algorithm_3.py:71: RuntimeWarning: overflow encountered in cdouble_scalars\n",
      "  r = up/down\n",
      "/home/zyl/GitKraken_Active/Low-Rank-approx_project/Algorithm_3.py:71: RuntimeWarning: invalid value encountered in cdouble_scalars\n",
      "  r = up/down\n"
     ]
    },
    {
     "name": "stdout",
     "output_type": "stream",
     "text": [
      "8\n",
      "9\n",
      "10\n",
      "11\n",
      "12\n",
      "13\n",
      "14\n",
      "15\n",
      "16\n",
      "17\n",
      "18\n",
      "19\n",
      "5\n",
      "6\n",
      "7\n",
      "8\n",
      "9\n",
      "10\n",
      "11\n",
      "12\n",
      "13\n",
      "14\n",
      "5\n",
      "6\n",
      "7\n",
      "8\n",
      "9\n",
      "10\n",
      "11\n",
      "12\n",
      "13\n",
      "14\n"
     ]
    }
   ],
   "source": [
    "m = 20\n",
    "n = 30\n",
    "rank = 3\n",
    "A = GetKRank(m,n,rank,-1,1,np.random.uniform)\n",
    "\n",
    "arrKR21 = []\n",
    "arrER21 = []\n",
    "arrTR21 = []\n",
    "\n",
    "arrKR31 = []\n",
    "arrER31 = []\n",
    "arrTR31 = []\n",
    "            \n",
    "for k in range(5,20):\n",
    "    start = pd.Timestamp.now()\n",
    "    C, U, R ,Cs, Rs = Algorithm_2(A, k)\n",
    "    end = pd.Timestamp.now()\n",
    "    print(k)\n",
    "    arrKR21.append(k)\n",
    "    time = end - start\n",
    "    arrTR21.append(time.total_seconds())\n",
    "    arrER21.append(np.linalg.norm(A - C@U@R, 'fro'))\n",
    "    \n",
    "for k in range(5,20):\n",
    "    start = pd.Timestamp.now()\n",
    "    C, U, R ,Cs, Rs = Algorithm_3(A, k)\n",
    "    end = pd.Timestamp.now()\n",
    "    print(k)\n",
    "    arrKR31.append(k)\n",
    "    time = end - start\n",
    "    arrTR31.append(time.total_seconds())\n",
    "    arrER31.append(np.linalg.norm(A - C@U@R, 'fro'))\n",
    "rank = 5\n",
    "A = GetKRank(m,n,rank,-1,1,np.random.uniform)\n",
    "\n",
    "arrKR22 = []\n",
    "arrER22 = []\n",
    "arrTR22 = []\n",
    "\n",
    "arrKR32 = []\n",
    "arrER32 = []\n",
    "arrTR32 = []\n",
    "\n",
    "\n",
    "        \n",
    "            \n",
    "for k in range(5,15):\n",
    "    start = pd.Timestamp.now()\n",
    "    C, U, R ,Cs, Rs = Algorithm_2(A, k)\n",
    "    end = pd.Timestamp.now()\n",
    "    print(k)\n",
    "    arrKR22.append(k)\n",
    "    time = end - start\n",
    "    arrTR22.append(time.total_seconds())\n",
    "    arrER22.append(np.linalg.norm(A - C@U@R, 'fro'))\n",
    "\n",
    "for k in range(5,15):\n",
    "    start = pd.Timestamp.now()\n",
    "    C, U, R ,Cs, Rs = Algorithm_3(A, k)\n",
    "    end = pd.Timestamp.now()\n",
    "    print(k)\n",
    "    arrKR32.append(k)\n",
    "    time = end - start\n",
    "    arrTR32.append(time.total_seconds())\n",
    "    arrER32.append(np.linalg.norm(A - C@U@R, 'fro'))\n",
    "  "
   ]
  },
  {
   "cell_type": "code",
   "execution_count": null,
   "metadata": {},
   "outputs": [],
   "source": [
    "np.savetxt(\"arrRK2_(20x30)_rank.txt\", arrKR21, fmt=\"%s\")\n",
    "np.savetxt(\"arrRT2_(20x30)_rank.txt\", arrTR21, fmt=\"%s\")\n",
    "np.savetxt(\"arrRE2_(20x30)_rank.txt\", arrER21, fmt=\"%s\")\n",
    "\n",
    "np.savetxt(\"arrRK3_(20x30)_rank.txt\", arrKR31, fmt=\"%s\")\n",
    "np.savetxt(\"arrRT3_(20x30)_rank.txt\", arrTR31, fmt=\"%s\")\n",
    "np.savetxt(\"arrRE3_(20x30)_rank.txt\", arrER31, fmt=\"%s\")"
   ]
  },
  {
   "cell_type": "code",
   "execution_count": 8,
   "metadata": {},
   "outputs": [
    {
     "data": {
      "image/png": "[encoded data removed]",
      "text/plain": [
       "<Figure size 432x288 with 1 Axes>"
      ]
     },
     "metadata": {
      "needs_background": "light"
     },
     "output_type": "display_data"
    }
   ],
   "source": [
    "fig = plt.figure()\n",
    "plt.plot(arrKR21,arrER21, label = \"Algorithm 2\")\n",
    "plt.plot(arrKR31,arrER31, label = \"Algorithm 3\")\n",
    "plt.legend()\n",
    "\n",
    "plt.yscale('log')\n",
    "plt.ylabel(\" $\\|A - CUR\\|_F^2$\")\n",
    "plt.xlabel(\"k\")\n",
    "plt.grid()\n",
    "plt.savefig('err_rank_3_1.pdf', dpi=300)\n",
    "plt.show()"
   ]
  },
  {
   "cell_type": "code",
   "execution_count": 10,
   "metadata": {},
   "outputs": [
    {
     "data": {
      "image/png": "[encoded data removed]",
      "text/plain": [
       "<Figure size 432x288 with 1 Axes>"
      ]
     },
     "metadata": {
      "needs_background": "light"
     },
     "output_type": "display_data"
    }
   ],
   "source": [
    "fig = plt.figure()\n",
    "plt.plot(arrKR22,arrER22, label = \"Algorithm 2\")\n",
    "plt.plot(arrKR32,arrER32, label = \"Algorithm 3\")\n",
    "plt.legend()\n",
    "\n",
    "plt.yscale('log')\n",
    "plt.ylabel(\" $\\|A - CUR\\|_F^2$\")\n",
    "plt.xlabel(\"k\")\n",
    "plt.grid()\n",
    "plt.savefig('err_rank_5_1.pdf', dpi=300)\n",
    "plt.show()"
   ]
  },
  {
   "cell_type": "code",
   "execution_count": null,
   "metadata": {},
   "outputs": [],
   "source": []
  }
 ],
 "metadata": {
  "kernelspec": {
   "display_name": "Python 3",
   "language": "python",
   "name": "python3"
  },
  "language_info": {
   "codemirror_mode": {
    "name": "ipython",
    "version": 3
   },
   "file_extension": ".py",
   "mimetype": "text/x-python",
   "name": "python",
   "nbconvert_exporter": "python",
   "pygments_lexer": "ipython3",
   "version": "3.7.3"
  }
 },
 "nbformat": 4,
 "nbformat_minor": 4
}
