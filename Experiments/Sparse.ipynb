{
 "cells": [
  {
   "cell_type": "code",
   "execution_count": null,
   "metadata": {},
   "outputs": [],
   "source": [
    "import numpy as np\n",
    "import math\n",
    "import os,sys,inspect\n",
    "import random\n",
    "import matplotlib.pyplot as plt\n",
    "import pandas as pd\n",
    "\n",
    "currentdir = os.path.dirname(os.path.abspath(inspect.getfile(inspect.currentframe())))\n",
    "parentdir = os.path.dirname(currentdir)\n",
    "sys.path.insert(0,parentdir) \n",
    "\n",
    "from Algorithm_2 import Algorithm_2, GetCoFromEigen\n",
    "from Algorithm_3 import Algorithm_3\n",
    "from func.Select_Index import Select_Columns, Select_Rows, Select_Ind\n",
    "from func.Summation_Alg import GetCoFromEigen\n",
    "\n",
    "import itertools \n",
    "from itertools import combinations, chain \n",
    "\n",
    "def findsubsets(r, n): \n",
    "    s = range(0, n)\n",
    "    return list(itertools.combinations(s, r)) \n",
    "\n",
    "def Check_Best_CUR(A, k):\n",
    "    \n",
    "    ans = math.inf\n",
    "    columns = []\n",
    "    rows = []\n",
    "    \n",
    "    m = A.shape[0]\n",
    "    n = A.shape[1]\n",
    "    \n",
    "    Cols = findsubsets(k, n)\n",
    "    Rows = findsubsets(k, m)\n",
    "    \n",
    "    for col__ in Cols:\n",
    "        for row__ in Rows:\n",
    "            \n",
    "            col = list(col__)\n",
    "            row = list(row__)\n",
    "            \n",
    "            C  = Select_Columns(A, col)\n",
    "            R  = Select_Rows(A, row)\n",
    "            U = np.linalg.pinv(C) @ A @ np.linalg.pinv(R)\n",
    "            \n",
    "            norm = np.linalg.norm(A - C @ U @ R,'fro')\n",
    "            if(norm < ans):\n",
    "                ans = norm\n",
    "                columns = col\n",
    "                rows = row\n",
    "            \n",
    "    return ans, columns, rows"
   ]
  },
  {
   "cell_type": "code",
   "execution_count": null,
   "metadata": {},
   "outputs": [],
   "source": [
    "def GetSparse(m, n, dens, a, b, distr):\n",
    "    A = np.zeros((m,n))\n",
    "    for i in range(m):\n",
    "        for j in range(n):\n",
    "            if random.random() < dens:\n",
    "                A[i][j] = distr(a, b)\n",
    "    return A"
   ]
  },
  {
   "cell_type": "code",
   "execution_count": 3,
   "metadata": {},
   "outputs": [
    {
     "name": "stdout",
     "output_type": "stream",
     "text": [
      "10\n"
     ]
    },
    {
     "name": "stderr",
     "output_type": "stream",
     "text": [
      "/home/zyl/GitKraken_Active/Low-Rank-approx_project/Algorithm_2.py:54: RuntimeWarning: overflow encountered in cdouble_scalars\n",
      "  ratio = up/down\n",
      "/home/zyl/GitKraken_Active/Low-Rank-approx_project/Algorithm_2.py:54: RuntimeWarning: invalid value encountered in cdouble_scalars\n",
      "  ratio = up/down\n"
     ]
    },
    {
     "name": "stdout",
     "output_type": "stream",
     "text": [
      "11\n",
      "12\n",
      "13\n",
      "14\n",
      "15\n",
      "16\n",
      "17\n",
      "18\n",
      "19\n",
      "10\n"
     ]
    },
    {
     "name": "stderr",
     "output_type": "stream",
     "text": [
      "/home/zyl/GitKraken_Active/Low-Rank-approx_project/Algorithm_3.py:71: RuntimeWarning: overflow encountered in cdouble_scalars\n",
      "  r = up/down\n",
      "/home/zyl/GitKraken_Active/Low-Rank-approx_project/Algorithm_3.py:71: RuntimeWarning: invalid value encountered in cdouble_scalars\n",
      "  r = up/down\n"
     ]
    },
    {
     "name": "stdout",
     "output_type": "stream",
     "text": [
      "11\n",
      "12\n",
      "13\n",
      "14\n",
      "15\n"
     ]
    },
    {
     "name": "stderr",
     "output_type": "stream",
     "text": [
      "/home/zyl/GitKraken_Active/Low-Rank-approx_project/func/Summation_Alg.py:18: RuntimeWarning: overflow encountered in multiply\n",
      "  S[i, j] = S[i-1, j] + eigen[i]*S[i-1,j-1]\n",
      "/home/zyl/GitKraken_Active/Low-Rank-approx_project/func/Summation_Alg.py:18: RuntimeWarning: invalid value encountered in multiply\n",
      "  S[i, j] = S[i-1, j] + eigen[i]*S[i-1,j-1]\n"
     ]
    },
    {
     "name": "stdout",
     "output_type": "stream",
     "text": [
      "16\n"
     ]
    },
    {
     "name": "stderr",
     "output_type": "stream",
     "text": [
      "/home/zyl/GitKraken_Active/Low-Rank-approx_project/func/Summation_Alg.py:18: RuntimeWarning: overflow encountered in cdouble_scalars\n",
      "  S[i, j] = S[i-1, j] + eigen[i]*S[i-1,j-1]\n"
     ]
    },
    {
     "name": "stdout",
     "output_type": "stream",
     "text": [
      "17\n",
      "18\n",
      "19\n",
      "10\n",
      "11\n",
      "12\n",
      "13\n",
      "14\n",
      "15\n",
      "16\n",
      "17\n",
      "18\n",
      "19\n",
      "10\n",
      "11\n",
      "12\n",
      "13\n",
      "14\n",
      "15\n",
      "16\n",
      "17\n",
      "18\n",
      "19\n"
     ]
    }
   ],
   "source": [
    "m = 20\n",
    "n = 30\n",
    "dens = 0.2\n",
    "\n",
    "A = GetSparse(m,n,dens,-1,1,np.random.uniform)\n",
    "\n",
    "arrKS21 = []\n",
    "arrES21 = []\n",
    "arrTS21 = []\n",
    "\n",
    "arrKS31 = []\n",
    "arrES31 = []\n",
    "arrTS31 = []\n",
    "\n",
    "\n",
    "        \n",
    "            \n",
    "for k in range(10,20):\n",
    "    start = pd.Timestamp.now()\n",
    "    C, U, R ,Cs, Rs = Algorithm_2(A, k)\n",
    "    end = pd.Timestamp.now()\n",
    "    print(k)\n",
    "    arrKS21.append(k)\n",
    "    time = end - start\n",
    "    arrTS21.append(time.total_seconds())\n",
    "    arrES21.append(np.linalg.norm(A - C@U@R, 'fro'))\n",
    "    \n",
    "for k in range(10,20):\n",
    "    start = pd.Timestamp.now()\n",
    "    C, U, R ,Cs, Rs = Algorithm_3(A, k)\n",
    "    end = pd.Timestamp.now()\n",
    "    print(k)\n",
    "    arrKS31.append(k)\n",
    "    time = end - start\n",
    "    arrTS31.append(time.total_seconds())\n",
    "    arrES31.append(np.linalg.norm(A - C@U@R, 'fro'))\n",
    "dens = 0.05\n",
    "\n",
    "A = GetSparse(m,n,dens,-1,1,np.random.uniform)\n",
    "\n",
    "arrKS22 = []\n",
    "arrES22 = []\n",
    "arrTS22 = []\n",
    "\n",
    "arrKS32 = []\n",
    "arrES32 = []\n",
    "arrTS32 = []\n",
    "\n",
    "\n",
    "        \n",
    "            \n",
    "for k in range(10,20):\n",
    "    start = pd.Timestamp.now()\n",
    "    C, U, R ,Cs, Rs = Algorithm_2(A, k)\n",
    "    end = pd.Timestamp.now()\n",
    "    print(k)\n",
    "    arrKS22.append(k)\n",
    "    time = end - start\n",
    "    arrTS22.append(time.total_seconds())\n",
    "    arrES22.append(np.linalg.norm(A - C@U@R, 'fro'))\n",
    "    \n",
    "for k in range(10,20):\n",
    "    start = pd.Timestamp.now()\n",
    "    C, U, R ,Cs, Rs = Algorithm_3(A, k)\n",
    "    end = pd.Timestamp.now()\n",
    "    print(k)\n",
    "    arrKS32.append(k)\n",
    "    time = end - start\n",
    "    arrTS32.append(time.total_seconds())\n",
    "    arrES32.append(np.linalg.norm(A - C@U@R, 'fro'))"
   ]
  },
  {
   "cell_type": "code",
   "execution_count": 10,
   "metadata": {},
   "outputs": [
    {
     "data": {
      "image/png": "[encoded data removed]",
      "text/plain": [
       "<Figure size 432x288 with 1 Axes>"
      ]
     },
     "metadata": {
      "needs_background": "light"
     },
     "output_type": "display_data"
    }
   ],
   "source": [
    "fig = plt.figure()\n",
    "plt.plot(arrKS21,arrES21, label = \"Alg. 2 density = 0.2\")\n",
    "plt.plot(arrKS22,arrES22, label = \"Alg. 2 density = 0.05\")\n",
    "plt.legend()\n",
    "\n",
    "plt.yscale('log')\n",
    "plt.ylabel(\"$ \\|A - CUR\\|_F^2$\")\n",
    "plt.xlabel(\"k\")\n",
    "plt.grid()\n",
    "plt.savefig('err_A2_Sparse.pdf', dpi=300)\n",
    "plt.show()"
   ]
  },
  {
   "cell_type": "code",
   "execution_count": 11,
   "metadata": {},
   "outputs": [
    {
     "data": {
      "image/png": "[encoded data removed]",
      "text/plain": [
       "<Figure size 432x288 with 1 Axes>"
      ]
     },
     "metadata": {
      "needs_background": "light"
     },
     "output_type": "display_data"
    }
   ],
   "source": [
    "fig = plt.figure()\n",
    "plt.plot(arrKS31,arrES31, label = \"Alg. 3 density = 0.2\")\n",
    "plt.plot(arrKS32,arrES32, label = \"Alg. 3 density = 0.05\")\n",
    "plt.legend()\n",
    "\n",
    "plt.yscale('log')\n",
    "plt.ylabel(\"$ \\|A - CUR\\|_F^2$\")\n",
    "plt.xlabel(\"k\")\n",
    "plt.grid()\n",
    "plt.savefig('err_A3_Sparse.pdf', dpi=300)\n",
    "plt.show()"
   ]
  },
  {
   "cell_type": "code",
   "execution_count": null,
   "metadata": {},
   "outputs": [],
   "source": []
  }
 ],
 "metadata": {
  "kernelspec": {
   "display_name": "Python 3",
   "language": "python",
   "name": "python3"
  },
  "language_info": {
   "codemirror_mode": {
    "name": "ipython",
    "version": 3
   },
   "file_extension": ".py",
   "mimetype": "text/x-python",
   "name": "python",
   "nbconvert_exporter": "python",
   "pygments_lexer": "ipython3",
   "version": "3.7.3"
  }
 },
 "nbformat": 4,
 "nbformat_minor": 4
}
