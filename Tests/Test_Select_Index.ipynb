{
 "cells": [
  {
   "cell_type": "code",
   "execution_count": 1,
   "metadata": {},
   "outputs": [],
   "source": [
    "import numpy as np\n",
    "import os,sys,inspect\n",
    "\n",
    "\n",
    "currentdir = os.path.dirname(os.path.abspath(inspect.getfile(inspect.currentframe())))\n",
    "parentdir = os.path.dirname(currentdir)\n",
    "sys.path.insert(0,parentdir) \n",
    "from func.Select_Index import Select_Columns, Select_Rows, Select_Ind\n"
   ]
  },
  {
   "cell_type": "code",
   "execution_count": 2,
   "metadata": {},
   "outputs": [
    {
     "name": "stdout",
     "output_type": "stream",
     "text": [
      "A = \n",
      " [[1.68370209 3.28981722 6.57638716 6.9743429 ]\n",
      " [4.0989749  1.82051714 8.2665402  1.41750682]\n",
      " [5.937801   3.85717582 7.98124289 9.54823749]\n",
      " [9.34935663 7.19476449 8.09212123 9.64438581]\n",
      " [0.89187135 4.42107522 6.75324034 1.10953657]]\n",
      "=============\n",
      "\n",
      "S : [1, 3] \n",
      "\n",
      "W : [0, 2] \n",
      "\n",
      " A[:, S] = \n",
      " [[3.28981722 6.9743429 ]\n",
      " [1.82051714 1.41750682]\n",
      " [3.85717582 9.54823749]\n",
      " [7.19476449 9.64438581]\n",
      " [4.42107522 1.10953657]] \n",
      "\n",
      " A[W, :] = \n",
      " [[1.68370209 3.28981722 6.57638716 6.9743429 ]\n",
      " [5.937801   3.85717582 7.98124289 9.54823749]] \n",
      "\n",
      " A[W, S] = \n",
      " [[3.28981722 6.9743429 ]\n",
      " [3.85717582 9.54823749]] \n",
      "\n"
     ]
    }
   ],
   "source": [
    "\n",
    "n = 4      # размерность задачи\n",
    "\n",
    "m = 5\n",
    "n = 4\n",
    "A = np.random.rand(m, n) * 10\n",
    "S = [1, 3]\n",
    "W = [0, 2]\n",
    "print(\"A = \\n {}\".format(A))\n",
    "print(\"=============\\n\")\n",
    "print(\"S : {} \\n\\nW : {} \\n\\n A[:, S] = \\n {} \\n\\n A[W, :] = \\n {} \\n\\n A[W, S] = \\n {} \\n\"\\\n",
    "      .format(S, W,  Select_Columns(A, S), Select_Rows(A, W), Select_Ind(A, W, S)))"
   ]
  },
  {
   "cell_type": "code",
   "execution_count": null,
   "metadata": {},
   "outputs": [],
   "source": []
  }
 ],
 "metadata": {
  "kernelspec": {
   "display_name": "Python 3",
   "language": "python",
   "name": "python3"
  },
  "language_info": {
   "codemirror_mode": {
    "name": "ipython",
    "version": 3
   },
   "file_extension": ".py",
   "mimetype": "text/x-python",
   "name": "python",
   "nbconvert_exporter": "python",
   "pygments_lexer": "ipython3",
   "version": "3.7.3"
  }
 },
 "nbformat": 4,
 "nbformat_minor": 4
}
