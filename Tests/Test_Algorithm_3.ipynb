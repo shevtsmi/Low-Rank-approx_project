{
 "cells": [
  {
   "cell_type": "code",
   "execution_count": 1,
   "metadata": {},
   "outputs": [],
   "source": [
    "import numpy as np\n",
    "import math\n",
    "import os,sys,inspect\n",
    "currentdir = os.path.dirname(os.path.abspath(inspect.getfile(inspect.currentframe())))\n",
    "parentdir = os.path.dirname(currentdir)\n",
    "sys.path.insert(0,parentdir) \n",
    "\n",
    "from Algorithm_2 import Algorithm_2\n",
    "from Algorithm_3 import Algorithm_3\n",
    "from func.Select_Index import Select_Columns, Select_Rows, Select_Ind\n",
    "\n",
    "import itertools \n",
    "from itertools import combinations, chain "
   ]
  },
  {
   "cell_type": "code",
   "execution_count": 2,
   "metadata": {},
   "outputs": [],
   "source": [
    "def findsubsets(r, n): \n",
    "    s = range(0, n)\n",
    "    return list(itertools.combinations(s, r)) \n",
    "\n",
    "\n",
    "#print(findsubsets())\n",
    "\n",
    "def Check_Best_CUR(A, k):\n",
    "    \n",
    "    ans = math.inf\n",
    "    columns = []\n",
    "    rows = []\n",
    "    \n",
    "    m = A.shape[0]\n",
    "    n = A.shape[1]\n",
    "    \n",
    "    Cols = findsubsets(k, n)\n",
    "    Rows = findsubsets(k, m)\n",
    "    \n",
    "    for col__ in Cols:\n",
    "        for row__ in Rows:\n",
    "            \n",
    "            col = list(col__)\n",
    "            row = list(row__)\n",
    "            \n",
    "            C  = Select_Columns(A, col)\n",
    "            R  = Select_Rows(A, row)\n",
    "            U = np.linalg.pinv(C) @ A @ np.linalg.pinv(R)\n",
    "            \n",
    "            norm = np.linalg.norm(A - C @ U @ R)\n",
    "            if(norm < ans):\n",
    "                ans = norm\n",
    "                columns = col\n",
    "                rows = row\n",
    "            \n",
    "    return ans, columns, rows"
   ]
  },
  {
   "cell_type": "code",
   "execution_count": 3,
   "metadata": {},
   "outputs": [
    {
     "name": "stdout",
     "output_type": "stream",
     "text": [
      "A = \n",
      " [[4.18590438 3.12805604 0.2909549  5.04334701 6.10247813 8.85185732\n",
      "  3.48916954 5.64280139 2.65803075 4.20353718]\n",
      " [1.46848015 6.81599846 8.2178391  5.60553695 5.500523   4.2202296\n",
      "  0.91168703 2.3801942  1.05028399 1.01977724]\n",
      " [8.69285025 7.59720397 9.33646025 4.08808182 6.17760933 6.01096892\n",
      "  5.73410736 6.06796516 6.69793001 0.44016212]\n",
      " [4.5821844  5.22531043 9.22119455 6.84594201 4.08736133 3.06978372\n",
      "  2.22034622 2.39110022 6.23883653 4.89705089]\n",
      " [1.24638787 7.9429312  9.98320741 1.52493168 8.96958287 9.77002375\n",
      "  6.71771911 2.3488063  0.69728699 8.82993401]\n",
      " [2.35778964 4.63820163 8.86984464 0.96364026 8.77796718 4.21800004\n",
      "  6.52459925 9.50635884 0.91366189 6.57313669]\n",
      " [9.94538888 3.73908544 0.97896768 7.88686129 0.10309996 7.60692699\n",
      "  3.07388789 0.80759041 4.54714278 4.46434234]]\n",
      "our answer : 25.49428079954424 \n",
      "true answer : 19.51006200579322\n",
      "\n",
      "True sets: \n",
      "Cols :\n",
      " [0, 4]\n",
      "\n",
      "Rows :\n",
      " [5, 6]\n",
      "\n",
      "Our sets: \n",
      "Cols :\n",
      " [0, 4]\n",
      "\n",
      "Rows :\n",
      " [1, 8]\n",
      "\n"
     ]
    }
   ],
   "source": [
    "m = 7\n",
    "n = 10\n",
    "k = 2\n",
    "\n",
    "A = np.random.rand(m, n) * 10\n",
    "\n",
    "print(\"A = \\n\", A)\n",
    "\n",
    "C, U, R, our_col, our_row = Algorithm_3(A, k) \n",
    "\n",
    "our_ans = np.linalg.norm(A - C @ U @ R) \n",
    "true_ans, true_col, true_row = Check_Best_CUR(A, k)\n",
    "\n",
    "\n",
    "print(\"our answer : {} \\ntrue answer : {}\\n\".format(our_ans, true_ans))\n",
    "\n",
    "print(\"True sets: \")\n",
    "print(\"Cols :\\n {}\\n\".format(true_col))\n",
    "print(\"Rows :\\n {}\\n\".format(true_row))\n",
    "\n",
    "print(\"Our sets: \")\n",
    "print(\"Cols :\\n {}\\n\".format(our_col))\n",
    "print(\"Rows :\\n {}\\n\".format(our_row))\n",
    "\n",
    "\n"
   ]
  },
  {
   "cell_type": "code",
   "execution_count": null,
   "metadata": {},
   "outputs": [],
   "source": []
  }
 ],
 "metadata": {
  "kernelspec": {
   "display_name": "Python 3",
   "language": "python",
   "name": "python3"
  },
  "language_info": {
   "codemirror_mode": {
    "name": "ipython",
    "version": 3
   },
   "file_extension": ".py",
   "mimetype": "text/x-python",
   "name": "python",
   "nbconvert_exporter": "python",
   "pygments_lexer": "ipython3",
   "version": "3.7.3"
  }
 },
 "nbformat": 4,
 "nbformat_minor": 4
}
