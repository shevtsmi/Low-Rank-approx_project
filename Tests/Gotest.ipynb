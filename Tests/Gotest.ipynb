{
 "cells": [
  {
   "cell_type": "code",
   "execution_count": 1,
   "metadata": {},
   "outputs": [],
   "source": [
    "import numpy as np\n",
    "import math\n",
    "import os,sys,inspect\n",
    "import random\n",
    "import matplotlib.pyplot as plt\n",
    "import pandas as pd\n",
    "\n",
    "currentdir = os.path.dirname(os.path.abspath(inspect.getfile(inspect.currentframe())))\n",
    "parentdir = os.path.dirname(currentdir)\n",
    "sys.path.insert(0,parentdir) \n",
    "\n",
    "from Algorithm_2 import Algorithm_2, GetCoFromEigen\n",
    "from Algorithm_3 import Algorithm_3\n",
    "from func.Select_Index import Select_Columns, Select_Rows, Select_Ind\n",
    "from func.Summation_Alg import GetCoFromEigen\n",
    "\n",
    "import itertools \n",
    "from itertools import combinations, chain \n",
    "\n",
    "def findsubsets(r, n): \n",
    "    s = range(0, n)\n",
    "    return list(itertools.combinations(s, r)) \n",
    "\n",
    "def Check_Best_CUR(A, k):\n",
    "    \n",
    "    ans = math.inf\n",
    "    columns = []\n",
    "    rows = []\n",
    "    \n",
    "    m = A.shape[0]\n",
    "    n = A.shape[1]\n",
    "    \n",
    "    Cols = findsubsets(k, n)\n",
    "    Rows = findsubsets(k, m)\n",
    "    \n",
    "    for col__ in Cols:\n",
    "        for row__ in Rows:\n",
    "            \n",
    "            col = list(col__)\n",
    "            row = list(row__)\n",
    "            \n",
    "            C  = Select_Columns(A, col)\n",
    "            R  = Select_Rows(A, row)\n",
    "            U = np.linalg.pinv(C) @ A @ np.linalg.pinv(R)\n",
    "            \n",
    "            norm = np.linalg.norm(A - C @ U @ R,'fro')\n",
    "            if(norm < ans):\n",
    "                ans = norm\n",
    "                columns = col\n",
    "                rows = row\n",
    "            \n",
    "    return ans, columns, rows"
   ]
  },
  {
   "cell_type": "code",
   "execution_count": 12,
   "metadata": {},
   "outputs": [],
   "source": [
    "def GetSparse(m, n, dens, a, b, distr):\n",
    "    A = np.zeros((m,n))\n",
    "    for i in range(m):\n",
    "        for j in range(n):\n",
    "            if random.random() < dens:\n",
    "                A[i][j] = distr(a, b)\n",
    "    return A\n",
    "\n",
    "\n",
    "def GetKRank(m, n, k, a, b, distr):\n",
    "    Z = np.zeros((m,n))\n",
    "    for i in range(k):\n",
    "        Z[i][i] = distr(a, b)\n",
    "    U = np.random.uniform(a,b, (m,m))\n",
    "    U = U @ U.T\n",
    "    V = np.random.uniform(a,b, (n,n))\n",
    "    V = V @ V.T\n",
    "    return U @ Z @ V"
   ]
  },
  {
   "cell_type": "code",
   "execution_count": 28,
   "metadata": {},
   "outputs": [],
   "source": [
    "def GetHilbertTest(m,n, k_start,k_border):\n",
    "    A = np.zeros((m,n))\n",
    "\n",
    "    arrK2 = []\n",
    "    arrE2 = []\n",
    "    arrT2 = []\n",
    "\n",
    "    arrK3 = []\n",
    "    arrE3 = []\n",
    "    arrT3 = []\n",
    "\n",
    "    for i in range(m):\n",
    "        for j in range(n):\n",
    "            A[i][j] = 1/(i+j+1)\n",
    "        \n",
    "        \n",
    "    for k in range(k_start,k_border+1):\n",
    "        start = pd.Timestamp.now()\n",
    "        C, U, R ,Cs, Rs = Algorithm_2(A, k)\n",
    "        end = pd.Timestamp.now()\n",
    "        print(k)\n",
    "        arrK2.append(k)\n",
    "        time = end - start\n",
    "        arrT2.append(time.total_seconds())\n",
    "        arrE2.append(np.linalg.norm(A - C@U@R, 'fro'))\n",
    "    \n",
    "    for k in range(k_start,k_border+1):\n",
    "        start = pd.Timestamp.now()\n",
    "        C, U, R ,Cs, Rs = Algorithm_3(A, k)\n",
    "        end = pd.Timestamp.now()\n",
    "        #print(k)\n",
    "        arrK3.append(k)\n",
    "        time = end - start\n",
    "        arrT3.append(time.total_seconds())\n",
    "        arrE3.append(np.linalg.norm(A - C@U@R, 'fro'))\n",
    "    return arrK2, arrE2, arrT2, arrK3, arrE3, arrT3\n",
    "\n",
    "def GetRankTest(m,n,rank, k_start, k_border):\n",
    "    A = GetKRank(m,n,rank,-1,1,np.random.uniform)\n",
    "\n",
    "    arrKR2 = []\n",
    "    arrER2 = []\n",
    "    arrTR2 = []\n",
    "\n",
    "    arrKR3 = []\n",
    "    arrER3 = []\n",
    "    arrTR3 = []\n",
    "\n",
    "\n",
    "        \n",
    "            \n",
    "    for k in range(k_start,k_border+1):\n",
    "        start = pd.Timestamp.now()\n",
    "        C, U, R ,Cs, Rs = Algorithm_2(A, k)\n",
    "        end = pd.Timestamp.now()\n",
    "        #print(k)\n",
    "        arrKR2.append(k)\n",
    "        time = end - start\n",
    "        arrTR2.append(time.total_seconds())\n",
    "        arrER2.append(np.linalg.norm(A - C@U@R, 'fro'))\n",
    "    \n",
    "    for k in range(k_start,k_border+1):\n",
    "        start = pd.Timestamp.now()\n",
    "        C, U, R ,Cs, Rs = Algorithm_3(A, k)\n",
    "        end = pd.Timestamp.now()\n",
    "        #print(k)\n",
    "        arrKR3.append(k)\n",
    "        time = end - start\n",
    "        arrTR3.append(time.total_seconds())\n",
    "        arrER3.append(np.linalg.norm(A - C@U@R, 'fro'))\n",
    "    return arrKR2, arrER2, arrTR2, arrKR3, arrER3, arrTR3\n",
    "\n",
    "def GetSparseTest(m,n,dens,k_start,k_border):\n",
    "    A = GetSparse(m,n,dens,-1,1,np.random.uniform)\n",
    "\n",
    "    arrKS2 = []\n",
    "    arrES2 = []\n",
    "    arrTS2 = []\n",
    "\n",
    "    arrKS3 = []\n",
    "    arrES3 = []\n",
    "    arrTS3 = []\n",
    "\n",
    "\n",
    "        \n",
    "            \n",
    "    for k in range(k_start,k_border+1):\n",
    "        start = pd.Timestamp.now()\n",
    "        C, U, R ,Cs, Rs = Algorithm_2(A, k)\n",
    "        end = pd.Timestamp.now()\n",
    "        print(k)\n",
    "        arrKS2.append(k)\n",
    "        time = end - start\n",
    "        arrTS2.append(time.total_seconds())\n",
    "        arrES2.append(np.linalg.norm(A - C@U@R, 'fro'))\n",
    "    \n",
    "    for k in range(k_start,k_border+1):\n",
    "        start = pd.Timestamp.now()\n",
    "        C, U, R ,Cs, Rs = Algorithm_3(A, k)\n",
    "        end = pd.Timestamp.now()\n",
    "        #print(k)\n",
    "        arrKS3.append(k)\n",
    "        time = end - start\n",
    "        arrTS3.append(time.total_seconds())\n",
    "        arrES3.append(np.linalg.norm(A - C@U@R, 'fro'))\n",
    "    return KS2,ES2,ET2, KS3, ES3, TS3"
   ]
  },
  {
   "cell_type": "markdown",
   "metadata": {},
   "source": [
    "Hilbert matrix"
   ]
  },
  {
   "cell_type": "code",
   "execution_count": 20,
   "metadata": {},
   "outputs": [
    {
     "name": "stdout",
     "output_type": "stream",
     "text": [
      "1\n",
      "2\n",
      "3\n"
     ]
    },
    {
     "name": "stderr",
     "output_type": "stream",
     "text": [
      "/Users/vladimirsevcov/Downloads/Low-Rank-approx_project-master/Algorithm_2.py:55: RuntimeWarning: overflow encountered in cdouble_scalars\n",
      "  ratio = up/down\n",
      "/Users/vladimirsevcov/Downloads/Low-Rank-approx_project-master/Algorithm_2.py:55: RuntimeWarning: invalid value encountered in cdouble_scalars\n",
      "  ratio = up/down\n"
     ]
    },
    {
     "name": "stdout",
     "output_type": "stream",
     "text": [
      "4\n",
      "5\n",
      "6\n",
      "7\n",
      "8\n",
      "9\n",
      "10\n",
      "11\n",
      "12\n",
      "13\n",
      "14\n",
      "1\n"
     ]
    },
    {
     "name": "stderr",
     "output_type": "stream",
     "text": [
      "/Users/vladimirsevcov/Downloads/Low-Rank-approx_project-master/func/Summation_Alg.py:18: RuntimeWarning: overflow encountered in multiply\n",
      "  S[i, j] = S[i-1, j] + eigen[i]*S[i-1,j-1]\n",
      "/Users/vladimirsevcov/Downloads/Low-Rank-approx_project-master/func/Summation_Alg.py:18: RuntimeWarning: invalid value encountered in multiply\n",
      "  S[i, j] = S[i-1, j] + eigen[i]*S[i-1,j-1]\n"
     ]
    },
    {
     "name": "stdout",
     "output_type": "stream",
     "text": [
      "2\n",
      "3\n",
      "4\n",
      "5\n",
      "6\n",
      "7\n"
     ]
    },
    {
     "name": "stderr",
     "output_type": "stream",
     "text": [
      "/Users/vladimirsevcov/Downloads/Low-Rank-approx_project-master/Algorithm_3.py:78: RuntimeWarning: overflow encountered in cdouble_scalars\n",
      "  r = up/down\n",
      "/Users/vladimirsevcov/Downloads/Low-Rank-approx_project-master/Algorithm_3.py:78: RuntimeWarning: invalid value encountered in cdouble_scalars\n",
      "  r = up/down\n"
     ]
    },
    {
     "name": "stdout",
     "output_type": "stream",
     "text": [
      "8\n"
     ]
    },
    {
     "name": "stderr",
     "output_type": "stream",
     "text": [
      "/Users/vladimirsevcov/Downloads/Low-Rank-approx_project-master/func/Summation_Alg.py:18: RuntimeWarning: overflow encountered in cdouble_scalars\n",
      "  S[i, j] = S[i-1, j] + eigen[i]*S[i-1,j-1]\n"
     ]
    },
    {
     "name": "stdout",
     "output_type": "stream",
     "text": [
      "9\n",
      "10\n",
      "11\n",
      "12\n"
     ]
    },
    {
     "name": "stderr",
     "output_type": "stream",
     "text": [
      "/Users/vladimirsevcov/Downloads/Low-Rank-approx_project-master/Algorithm_3.py:98: RuntimeWarning: divide by zero encountered in double_scalars\n",
      "  B = B - 1/B[i_t][j_t] * np.outer(B[:, j_t], B[i_t, :])\n",
      "/Users/vladimirsevcov/Downloads/Low-Rank-approx_project-master/Algorithm_3.py:98: RuntimeWarning: invalid value encountered in multiply\n",
      "  B = B - 1/B[i_t][j_t] * np.outer(B[:, j_t], B[i_t, :])\n"
     ]
    },
    {
     "name": "stdout",
     "output_type": "stream",
     "text": [
      "13\n",
      "14\n"
     ]
    }
   ],
   "source": [
    "m = 20\n",
    "n = 15\n",
    "\n",
    "A = np.zeros((m,n))\n",
    "\n",
    "arrK2 = []\n",
    "arrE2 = []\n",
    "arrT2 = []\n",
    "\n",
    "arrK3 = []\n",
    "arrE3 = []\n",
    "arrT3 = []\n",
    "\n",
    "for i in range(m):\n",
    "    for j in range(n):\n",
    "        A[i][j] = 1/(i+j+1)\n",
    "        \n",
    "        \n",
    "for k in range(1,n):\n",
    "    start = pd.Timestamp.now()\n",
    "    C, U, R ,Cs, Rs = Algorithm_2(A, k)\n",
    "    end = pd.Timestamp.now()\n",
    "    print(k)\n",
    "    arrK2.append(k)\n",
    "    time = end - start\n",
    "    arrT2.append(time.total_seconds())\n",
    "    arrE2.append(np.linalg.norm(A - C@U@R, 'fro'))\n",
    "    \n",
    "for k in range(1,n):\n",
    "    start = pd.Timestamp.now()\n",
    "    C, U, R ,Cs, Rs = Algorithm_3(A, k)\n",
    "    end = pd.Timestamp.now()\n",
    "    print(k)\n",
    "    arrK3.append(k)\n",
    "    time = end - start\n",
    "    arrT3.append(time.total_seconds())\n",
    "    arrE3.append(np.linalg.norm(A - C@U@R, 'fro'))\n",
    "\n",
    "\n"
   ]
  },
  {
   "cell_type": "code",
   "execution_count": 23,
   "metadata": {},
   "outputs": [
    {
     "data": {
      "image/png": "[encoded data removed]",
      "text/plain": [
       "<Figure size 432x288 with 1 Axes>"
      ]
     },
     "metadata": {
      "needs_background": "light"
     },
     "output_type": "display_data"
    }
   ],
   "source": [
    "fig = plt.figure()\n",
    "plt.plot(arrK2,arrE2, label = \"Algorithm 2\")\n",
    "plt.plot(arrK3,arrE3, label = \"Algorithm 3\")\n",
    "plt.legend()\n",
    "\n",
    "plt.yscale('log')\n",
    "plt.ylabel(\"норма невязки\")\n",
    "plt.xlabel(\"порядок аппроксимации\")\n",
    "plt.grid()\n",
    "plt.show()"
   ]
  },
  {
   "cell_type": "code",
   "execution_count": 24,
   "metadata": {},
   "outputs": [
    {
     "data": {
      "image/png": "[encoded data removed]",
      "text/plain": [
       "<Figure size 432x288 with 1 Axes>"
      ]
     },
     "metadata": {
      "needs_background": "light"
     },
     "output_type": "display_data"
    }
   ],
   "source": [
    "fig = plt.figure()\n",
    "plt.plot(arrK2,arrT2, label = \"Algorithm 2\")\n",
    "plt.plot(arrK3,arrT3, label = \"Algorithm 3\")\n",
    "plt.legend()\n",
    "\n",
    "plt.yscale('log')\n",
    "plt.ylabel(\"время работы\")\n",
    "plt.xlabel(\"порядок аппроксимации\")\n",
    "plt.grid()\n",
    "plt.show()"
   ]
  },
  {
   "cell_type": "markdown",
   "metadata": {},
   "source": [
    "Rank test"
   ]
  },
  {
   "cell_type": "code",
   "execution_count": 34,
   "metadata": {},
   "outputs": [
    {
     "name": "stdout",
     "output_type": "stream",
     "text": [
      "1\n",
      "2\n",
      "3\n",
      "4\n",
      "5\n",
      "6\n",
      "7\n",
      "8\n",
      "9\n",
      "10\n",
      "11\n",
      "12\n",
      "1\n",
      "2\n",
      "3\n",
      "4\n",
      "5\n",
      "6\n",
      "7\n",
      "8\n",
      "9\n",
      "10\n",
      "11\n",
      "12\n"
     ]
    }
   ],
   "source": [
    "m = 20\n",
    "n = 15\n",
    "num = 12\n",
    "rank = 10\n",
    "A = GetKRank(m,n,rank,-1,1,np.random.uniform)\n",
    "\n",
    "arrKR2 = []\n",
    "arrER2 = []\n",
    "arrTR2 = []\n",
    "\n",
    "arrKR3 = []\n",
    "arrER3 = []\n",
    "arrTR3 = []\n",
    "\n",
    "\n",
    "        \n",
    "            \n",
    "for k in range(1,num+1):\n",
    "    start = pd.Timestamp.now()\n",
    "    C, U, R ,Cs, Rs = Algorithm_2(A, k)\n",
    "    end = pd.Timestamp.now()\n",
    "    print(k)\n",
    "    arrKR2.append(k)\n",
    "    time = end - start\n",
    "    arrTR2.append(time.total_seconds())\n",
    "    arrER2.append(np.linalg.norm(A - C@U@R, 'fro'))\n",
    "    \n",
    "for k in range(1,num+1):\n",
    "    start = pd.Timestamp.now()\n",
    "    C, U, R ,Cs, Rs = Algorithm_3(A, k)\n",
    "    end = pd.Timestamp.now()\n",
    "    print(k)\n",
    "    arrKR3.append(k)\n",
    "    time = end - start\n",
    "    arrTR3.append(time.total_seconds())\n",
    "    arrER3.append(np.linalg.norm(A - C@U@R, 'fro'))"
   ]
  },
  {
   "cell_type": "code",
   "execution_count": 36,
   "metadata": {},
   "outputs": [
    {
     "data": {
      "image/png": "[encoded data removed]",
      "text/plain": [
       "<Figure size 432x288 with 1 Axes>"
      ]
     },
     "metadata": {
      "needs_background": "light"
     },
     "output_type": "display_data"
    }
   ],
   "source": [
    "fig = plt.figure()\n",
    "plt.plot(arrKR2,arrER2, label = \"Algorithm 2\")\n",
    "plt.plot(arrKR3,arrER3, label = \"Algorithm 3\")\n",
    "plt.legend()\n",
    "\n",
    "plt.yscale('log')\n",
    "plt.ylabel(\"норма невязки\")\n",
    "plt.xlabel(\"порядок аппроксимации\")\n",
    "plt.grid()\n",
    "plt.show()"
   ]
  },
  {
   "cell_type": "code",
   "execution_count": 37,
   "metadata": {},
   "outputs": [
    {
     "data": {
      "image/png": "[encoded data removed]",
      "text/plain": [
       "<Figure size 432x288 with 1 Axes>"
      ]
     },
     "metadata": {
      "needs_background": "light"
     },
     "output_type": "display_data"
    }
   ],
   "source": [
    "fig = plt.figure()\n",
    "plt.plot(arrKR2,arrTR2, label = \"Algorithm 2\")\n",
    "plt.plot(arrKR3,arrTR3, label = \"Algorithm 3\")\n",
    "plt.legend()\n",
    "\n",
    "plt.yscale('log')\n",
    "plt.ylabel(\"время работы\")\n",
    "plt.xlabel(\"порядок аппроксимации\")\n",
    "plt.grid()\n",
    "plt.show()"
   ]
  },
  {
   "cell_type": "code",
   "execution_count": 18,
   "metadata": {},
   "outputs": [
    {
     "data": {
      "text/plain": [
       "132.2427565003099"
      ]
     },
     "execution_count": 18,
     "metadata": {},
     "output_type": "execute_result"
    }
   ],
   "source": [
    "np.linalg.norm(A,'fro')"
   ]
  },
  {
   "cell_type": "code",
   "execution_count": null,
   "metadata": {},
   "outputs": [],
   "source": []
  },
  {
   "cell_type": "markdown",
   "metadata": {},
   "source": [
    "Sparse test"
   ]
  },
  {
   "cell_type": "code",
   "execution_count": 29,
   "metadata": {},
   "outputs": [
    {
     "name": "stdout",
     "output_type": "stream",
     "text": [
      "1\n",
      "2\n",
      "3\n",
      "4\n",
      "5\n",
      "6\n",
      "7\n",
      "8\n",
      "9\n",
      "10\n"
     ]
    },
    {
     "name": "stderr",
     "output_type": "stream",
     "text": [
      "/Users/vladimirsevcov/Downloads/Low-Rank-approx_project-master/Algorithm_2.py:55: RuntimeWarning: overflow encountered in cdouble_scalars\n",
      "  ratio = up/down\n",
      "/Users/vladimirsevcov/Downloads/Low-Rank-approx_project-master/Algorithm_2.py:55: RuntimeWarning: invalid value encountered in cdouble_scalars\n",
      "  ratio = up/down\n"
     ]
    },
    {
     "name": "stdout",
     "output_type": "stream",
     "text": [
      "11\n",
      "12\n",
      "13\n",
      "14\n",
      "1\n"
     ]
    },
    {
     "name": "stderr",
     "output_type": "stream",
     "text": [
      "/Users/vladimirsevcov/Downloads/Low-Rank-approx_project-master/func/Summation_Alg.py:18: RuntimeWarning: overflow encountered in multiply\n",
      "  S[i, j] = S[i-1, j] + eigen[i]*S[i-1,j-1]\n",
      "/Users/vladimirsevcov/Downloads/Low-Rank-approx_project-master/func/Summation_Alg.py:18: RuntimeWarning: invalid value encountered in multiply\n",
      "  S[i, j] = S[i-1, j] + eigen[i]*S[i-1,j-1]\n"
     ]
    },
    {
     "name": "stdout",
     "output_type": "stream",
     "text": [
      "2\n",
      "3\n",
      "4\n",
      "5\n",
      "6\n",
      "7\n"
     ]
    },
    {
     "name": "stderr",
     "output_type": "stream",
     "text": [
      "/Users/vladimirsevcov/Downloads/Low-Rank-approx_project-master/func/Summation_Alg.py:18: RuntimeWarning: overflow encountered in cdouble_scalars\n",
      "  S[i, j] = S[i-1, j] + eigen[i]*S[i-1,j-1]\n"
     ]
    },
    {
     "name": "stdout",
     "output_type": "stream",
     "text": [
      "8\n",
      "9\n",
      "10\n",
      "11\n"
     ]
    },
    {
     "name": "stderr",
     "output_type": "stream",
     "text": [
      "/Users/vladimirsevcov/Downloads/Low-Rank-approx_project-master/Algorithm_3.py:78: RuntimeWarning: overflow encountered in cdouble_scalars\n",
      "  r = up/down\n",
      "/Users/vladimirsevcov/Downloads/Low-Rank-approx_project-master/Algorithm_3.py:78: RuntimeWarning: invalid value encountered in cdouble_scalars\n",
      "  r = up/down\n"
     ]
    },
    {
     "name": "stdout",
     "output_type": "stream",
     "text": [
      "12\n",
      "13\n",
      "14\n"
     ]
    },
    {
     "name": "stderr",
     "output_type": "stream",
     "text": [
      "/Users/vladimirsevcov/Downloads/Low-Rank-approx_project-master/Algorithm_3.py:98: RuntimeWarning: divide by zero encountered in double_scalars\n",
      "  B = B - 1/B[i_t][j_t] * np.outer(B[:, j_t], B[i_t, :])\n",
      "/Users/vladimirsevcov/Downloads/Low-Rank-approx_project-master/Algorithm_3.py:98: RuntimeWarning: invalid value encountered in multiply\n",
      "  B = B - 1/B[i_t][j_t] * np.outer(B[:, j_t], B[i_t, :])\n"
     ]
    }
   ],
   "source": [
    "m = 20\n",
    "n = 15\n",
    "dens = 0.2\n",
    "\n",
    "A = GetSparse(m,n,dens,-1,1,np.random.uniform)\n",
    "\n",
    "arrKS2 = []\n",
    "arrES2 = []\n",
    "arrTS2 = []\n",
    "\n",
    "arrKS3 = []\n",
    "arrES3 = []\n",
    "arrTS3 = []\n",
    "\n",
    "\n",
    "        \n",
    "            \n",
    "for k in range(1,n):\n",
    "    start = pd.Timestamp.now()\n",
    "    C, U, R ,Cs, Rs = Algorithm_2(A, k)\n",
    "    end = pd.Timestamp.now()\n",
    "    print(k)\n",
    "    arrKS2.append(k)\n",
    "    time = end - start\n",
    "    arrTS2.append(time.total_seconds())\n",
    "    arrES2.append(np.linalg.norm(A - C@U@R, 'fro'))\n",
    "    \n",
    "for k in range(1,n):\n",
    "    start = pd.Timestamp.now()\n",
    "    C, U, R ,Cs, Rs = Algorithm_3(A, k)\n",
    "    end = pd.Timestamp.now()\n",
    "    print(k)\n",
    "    arrKS3.append(k)\n",
    "    time = end - start\n",
    "    arrTS3.append(time.total_seconds())\n",
    "    arrES3.append(np.linalg.norm(A - C@U@R, 'fro'))"
   ]
  },
  {
   "cell_type": "code",
   "execution_count": null,
   "metadata": {},
   "outputs": [],
   "source": [
    "fig = plt.figure()\n",
    "plt.plot(arrKS2,arrES2, label = \"Algorithm 2\")\n",
    "plt.plot(arrKS3,arrES3, label = \"Algorithm 3\")\n",
    "plt.legend()\n",
    "\n",
    "plt.yscale('log')\n",
    "plt.ylabel(\"норма невязки\")\n",
    "plt.xlabel(\"порядок аппроксимации\")\n",
    "plt.grid()\n",
    "plt.show()"
   ]
  },
  {
   "cell_type": "code",
   "execution_count": 8,
   "metadata": {},
   "outputs": [
    {
     "data": {
      "image/png": "[encoded data removed]",
      "text/plain": [
       "<Figure size 432x288 with 1 Axes>"
      ]
     },
     "metadata": {
      "needs_background": "light"
     },
     "output_type": "display_data"
    }
   ],
   "source": [
    "fig = plt.figure()\n",
    "plt.plot(arrK2,arrT2, label = \"Algorithm 2\")\n",
    "plt.plot(arrK3,arrT3, label = \"Algorithm 3\")\n",
    "plt.legend()\n",
    "\n",
    "plt.yscale('log')\n",
    "plt.ylabel(\"время работы\")\n",
    "plt.xlabel(\"порядок аппроксимации\")\n",
    "plt.grid()\n",
    "plt.show()"
   ]
  },
  {
   "cell_type": "markdown",
   "metadata": {},
   "source": [
    "Dim Test"
   ]
  },
  {
   "cell_type": "code",
   "execution_count": 9,
   "metadata": {},
   "outputs": [
    {
     "data": {
      "text/plain": [
       "4.132366289176371"
      ]
     },
     "execution_count": 9,
     "metadata": {},
     "output_type": "execute_result"
    }
   ],
   "source": [
    "np.linalg.norm(A,'fro')"
   ]
  },
  {
   "cell_type": "code",
   "execution_count": 10,
   "metadata": {},
   "outputs": [
    {
     "data": {
      "text/plain": [
       "array([[ 0.        , -0.74847064,  0.        ,  0.        ,  0.        ,\n",
       "         0.        , -0.55287896,  0.87197069,  0.        ,  0.        ,\n",
       "         0.        ,  0.        ,  0.        ,  0.21362552,  0.        ],\n",
       "       [ 0.        ,  0.        ,  0.        ,  0.        ,  0.39933198,\n",
       "        -0.01766012,  0.        ,  0.5609021 , -0.21140425,  0.        ,\n",
       "        -0.04916866,  0.        ,  0.        ,  0.        ,  0.        ],\n",
       "       [ 0.        ,  0.50443106,  0.30814589,  0.        ,  0.        ,\n",
       "         0.98365575,  0.        , -0.23038412,  0.        ,  0.        ,\n",
       "         0.        ,  0.        ,  0.        ,  0.        , -0.03384638],\n",
       "       [ 0.        ,  0.        ,  0.        ,  0.        ,  0.        ,\n",
       "         0.        ,  0.        ,  0.        ,  0.        ,  0.        ,\n",
       "         0.        ,  0.        , -0.21631053,  0.        ,  0.        ],\n",
       "       [ 0.        ,  0.        ,  0.        ,  0.        , -0.69210087,\n",
       "         0.        ,  0.        ,  0.        ,  0.        ,  0.15876875,\n",
       "         0.        ,  0.        ,  0.26767133,  0.        ,  0.        ],\n",
       "       [ 0.        , -0.38342045,  0.        ,  0.9390207 ,  0.        ,\n",
       "         0.32210121,  0.        ,  0.        ,  0.        ,  0.        ,\n",
       "         0.        ,  0.        ,  0.        ,  0.        ,  0.        ],\n",
       "       [ 0.        , -0.79617202, -0.15131185,  0.        ,  0.        ,\n",
       "         0.42858093,  0.        ,  0.        ,  0.        ,  0.        ,\n",
       "         0.        ,  0.        ,  0.        ,  0.        ,  0.        ],\n",
       "       [ 0.        ,  0.        ,  0.        ,  0.        ,  0.        ,\n",
       "         0.        ,  0.        ,  0.        ,  0.        , -0.21803457,\n",
       "        -0.87870176,  0.53717536,  0.        ,  0.65554616,  0.        ],\n",
       "       [ 0.34927914,  0.        ,  0.        ,  0.        ,  0.        ,\n",
       "         0.        , -0.49575196,  0.        ,  0.        ,  0.        ,\n",
       "         0.        , -0.15106581,  0.        ,  0.        ,  0.82374735],\n",
       "       [ 0.        ,  0.        ,  0.        ,  0.        ,  0.        ,\n",
       "         0.        ,  0.        , -0.18490246,  0.        ,  0.25165346,\n",
       "         0.19417311,  0.        ,  0.        ,  0.        ,  0.        ],\n",
       "       [ 0.        , -0.58926967,  0.        ,  0.        ,  0.        ,\n",
       "         0.        ,  0.        ,  0.        ,  0.        ,  0.        ,\n",
       "         0.        ,  0.        ,  0.        ,  0.        , -0.42345467],\n",
       "       [-0.37412053,  0.        ,  0.        ,  0.        ,  0.        ,\n",
       "        -0.00300926, -0.61645922,  0.        ,  0.        ,  0.        ,\n",
       "         0.        ,  0.        ,  0.        ,  0.        ,  0.        ],\n",
       "       [ 0.        ,  0.        ,  0.        ,  0.        ,  0.        ,\n",
       "         0.97563905,  0.35285536,  0.        ,  0.        ,  0.        ,\n",
       "         0.        ,  0.61378566,  0.        ,  0.        ,  0.        ],\n",
       "       [ 0.        ,  0.        ,  0.        ,  0.        ,  0.        ,\n",
       "         0.4602051 ,  0.        ,  0.        ,  0.        ,  0.        ,\n",
       "         0.        ,  0.        ,  0.        ,  0.        ,  0.        ],\n",
       "       [ 0.        ,  0.        ,  0.        ,  0.77287968,  0.        ,\n",
       "         0.        ,  0.        ,  0.        ,  0.        ,  0.31070117,\n",
       "         0.        ,  0.        , -0.65587426,  0.        ,  0.        ],\n",
       "       [ 0.        ,  0.21340571,  0.        ,  0.99587534,  0.        ,\n",
       "         0.        ,  0.        ,  0.43400886,  0.        ,  0.        ,\n",
       "         0.        ,  0.        ,  0.00024828,  0.45499429,  0.        ],\n",
       "       [ 0.        ,  0.        ,  0.        ,  0.        , -0.08884141,\n",
       "         0.        ,  0.        , -0.70280313,  0.        ,  0.        ,\n",
       "         0.        ,  0.        ,  0.        ,  0.        ,  0.        ],\n",
       "       [ 0.        ,  0.        , -0.0836129 ,  0.        ,  0.        ,\n",
       "         0.        ,  0.        ,  0.        ,  0.        ,  0.        ,\n",
       "         0.34019337,  0.        ,  0.78473083,  0.        ,  0.        ],\n",
       "       [ 0.        ,  0.        ,  0.        ,  0.        ,  0.        ,\n",
       "         0.        , -0.801829  ,  0.        ,  0.        ,  0.        ,\n",
       "         0.        ,  0.        ,  0.        , -0.17424061,  0.76917337],\n",
       "       [ 0.        ,  0.        ,  0.59614593,  0.        ,  0.        ,\n",
       "         0.        ,  0.        ,  0.21233645,  0.        ,  0.        ,\n",
       "         0.        ,  0.        ,  0.        ,  0.        ,  0.        ]])"
      ]
     },
     "execution_count": 10,
     "metadata": {},
     "output_type": "execute_result"
    }
   ],
   "source": [
    "A"
   ]
  },
  {
   "cell_type": "code",
   "execution_count": null,
   "metadata": {},
   "outputs": [],
   "source": []
  }
 ],
 "metadata": {
  "kernelspec": {
   "display_name": "Python 3",
   "language": "python",
   "name": "python3"
  },
  "language_info": {
   "codemirror_mode": {
    "name": "ipython",
    "version": 3
   },
   "file_extension": ".py",
   "mimetype": "text/x-python",
   "name": "python",
   "nbconvert_exporter": "python",
   "pygments_lexer": "ipython3",
   "version": "3.7.6"
  }
 },
 "nbformat": 4,
 "nbformat_minor": 4
}
