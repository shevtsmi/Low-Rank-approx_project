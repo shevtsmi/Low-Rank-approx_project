{
 "cells": [
  {
   "cell_type": "code",
   "execution_count": 1,
   "metadata": {},
   "outputs": [],
   "source": [
    "import numpy as np\n",
    "import math\n",
    "import os,sys,inspect\n",
    "import random\n",
    "import matplotlib.pyplot as plt\n",
    "import pandas as pd\n",
    "\n",
    "currentdir = os.path.dirname(os.path.abspath(inspect.getfile(inspect.currentframe())))\n",
    "parentdir = os.path.dirname(currentdir)\n",
    "sys.path.insert(0,parentdir) \n",
    "\n",
    "from Algorithm_2 import Algorithm_2, GetCoFromEigen\n",
    "from Algorithm_3 import Algorithm_3\n",
    "from func.Select_Index import Select_Columns, Select_Rows, Select_Ind\n",
    "from func.Summation_Alg import GetCoFromEigen\n",
    "\n",
    "import itertools \n",
    "from itertools import combinations, chain \n",
    "\n",
    "def findsubsets(r, n): \n",
    "    s = range(0, n)\n",
    "    return list(itertools.combinations(s, r)) \n",
    "\n",
    "def Check_Best_CUR(A, k):\n",
    "    \n",
    "    ans = math.inf\n",
    "    columns = []\n",
    "    rows = []\n",
    "    \n",
    "    m = A.shape[0]\n",
    "    n = A.shape[1]\n",
    "    \n",
    "    Cols = findsubsets(k, n)\n",
    "    Rows = findsubsets(k, m)\n",
    "    \n",
    "    for col__ in Cols:\n",
    "        for row__ in Rows:\n",
    "            \n",
    "            col = list(col__)\n",
    "            row = list(row__)\n",
    "            \n",
    "            C  = Select_Columns(A, col)\n",
    "            R  = Select_Rows(A, row)\n",
    "            U = np.linalg.pinv(C) @ A @ np.linalg.pinv(R)\n",
    "            \n",
    "            norm = np.linalg.norm(A - C @ U @ R,'fro')\n",
    "            if(norm < ans):\n",
    "                ans = norm\n",
    "                columns = col\n",
    "                rows = row\n",
    "            \n",
    "    return ans, columns, rows"
   ]
  },
  {
   "cell_type": "code",
   "execution_count": 2,
   "metadata": {},
   "outputs": [],
   "source": [
    "def GetSparse(m, n, dens, a, b, distr):\n",
    "    A = np.zeros((m,n))\n",
    "    for i in range(m):\n",
    "        for j in range(n):\n",
    "            if random.random() < dens:\n",
    "                A[i][j] = distr(a, b)\n",
    "    return A\n",
    "\n",
    "\n",
    "def GetKRank(m, n, k, a, b, distr):\n",
    "    Z = np.zeros((m,n))\n",
    "    for i in range(k):\n",
    "        Z[i][i] = distr(a, b)\n",
    "    U = np.random.uniform(a,b, (m,m))\n",
    "    U = U @ U.T\n",
    "    V = np.random.uniform(a,b, (n,n))\n",
    "    V = V @ V.T\n",
    "    return U @ Z @ V"
   ]
  },
  {
   "cell_type": "code",
   "execution_count": 3,
   "metadata": {},
   "outputs": [],
   "source": [
    "def GetHilbertTest(m,n, k_start,k_border):\n",
    "    A = np.zeros((m,n))\n",
    "\n",
    "    arrK2 = []\n",
    "    arrE2 = []\n",
    "    arrT2 = []\n",
    "\n",
    "    arrK3 = []\n",
    "    arrE3 = []\n",
    "    arrT3 = []\n",
    "\n",
    "    for i in range(m):\n",
    "        for j in range(n):\n",
    "            A[i][j] = 1/(i+j+1)\n",
    "        \n",
    "        \n",
    "    for k in range(k_start,k_border+1):\n",
    "        start = pd.Timestamp.now()\n",
    "        C, U, R ,Cs, Rs = Algorithm_2(A, k)\n",
    "        end = pd.Timestamp.now()\n",
    "        print(k)\n",
    "        arrK2.append(k)\n",
    "        time = end - start\n",
    "        arrT2.append(time.total_seconds())\n",
    "        arrE2.append(np.linalg.norm(A - C@U@R, 'fro'))\n",
    "    \n",
    "    for k in range(k_start,k_border+1):\n",
    "        start = pd.Timestamp.now()\n",
    "        C, U, R ,Cs, Rs = Algorithm_3(A, k)\n",
    "        end = pd.Timestamp.now()\n",
    "        #print(k)\n",
    "        arrK3.append(k)\n",
    "        time = end - start\n",
    "        arrT3.append(time.total_seconds())\n",
    "        arrE3.append(np.linalg.norm(A - C@U@R, 'fro'))\n",
    "    return arrK2, arrE2, arrT2, arrK3, arrE3, arrT3\n",
    "\n",
    "def GetRankTest(m,n,rank, k_start, k_border):\n",
    "    A = GetKRank(m,n,rank,-1,1,np.random.uniform)\n",
    "\n",
    "    arrKR2 = []\n",
    "    arrER2 = []\n",
    "    arrTR2 = []\n",
    "\n",
    "    arrKR3 = []\n",
    "    arrER3 = []\n",
    "    arrTR3 = []\n",
    "\n",
    "\n",
    "        \n",
    "            \n",
    "    #for k in range(k_start,k_border+1):\n",
    "        #start = pd.Timestamp.now()\n",
    "        #C, U, R ,Cs, Rs = Algorithm_2(A, k)\n",
    "        #end = pd.Timestamp.now()\n",
    "        #print(k)\n",
    "       # arrKR2.append(k)\n",
    "       # time = end - start\n",
    "      #  arrER2.append(np.linalg.norm(A - C@U@R, 'fro'))\n",
    "        #arrTR2.append(time.total_seconds())\n",
    "    for k in range(k_start,k_border+1):\n",
    "        start = pd.Timestamp.now()\n",
    "        C, U, R ,Cs, Rs = Algorithm_3(A, k)\n",
    "        end = pd.Timestamp.now()\n",
    "        print(k)\n",
    "        arrKR3.append(k)\n",
    "        time = end - start\n",
    "        arrTR3.append(time.total_seconds())\n",
    "        arrER3.append(np.linalg.norm(A - C@U@R, 'fro'))\n",
    "    return arrKR2, arrER2, arrTR2, arrKR3, arrER3, arrTR3\n",
    "\n",
    "def GetSparseTest(m,n,dens,k_start,k_border):\n",
    "    A = GetSparse(m,n,dens,-1,1,np.random.uniform)\n",
    "\n",
    "    arrKS2 = []\n",
    "    arrES2 = []\n",
    "    arrTS2 = []\n",
    "\n",
    "    arrKS3 = []\n",
    "    arrES3 = []\n",
    "    arrTS3 = []\n",
    "\n",
    "\n",
    "        \n",
    "            \n",
    "    for k in range(k_start,k_border+1):\n",
    "        start = pd.Timestamp.now()\n",
    "        C, U, R ,Cs, Rs = Algorithm_2(A, k)\n",
    "        end = pd.Timestamp.now()\n",
    "        print(k)\n",
    "        arrKS2.append(k)\n",
    "        time = end - start\n",
    "        arrTS2.append(time.total_seconds())\n",
    "        arrES2.append(np.linalg.norm(A - C@U@R, 'fro'))\n",
    "    \n",
    "    for k in range(k_start,k_border+1):\n",
    "        start = pd.Timestamp.now()\n",
    "        C, U, R ,Cs, Rs = Algorithm_3(A, k)\n",
    "        end = pd.Timestamp.now()\n",
    "        #print(k)\n",
    "        arrKS3.append(k)\n",
    "        time = end - start\n",
    "        arrTS3.append(time.total_seconds())\n",
    "        arrES3.append(np.linalg.norm(A - C@U@R, 'fro'))\n",
    "    return KS2,ES2,ET2, KS3, ES3, TS3"
   ]
  },
  {
   "cell_type": "markdown",
   "metadata": {},
   "source": [
    "Hilbert matrix"
   ]
  },
  {
   "cell_type": "code",
   "execution_count": 4,
   "metadata": {},
   "outputs": [
    {
     "name": "stdout",
     "output_type": "stream",
     "text": [
      "5\n",
      "6\n",
      "7\n",
      "8\n",
      "9\n"
     ]
    },
    {
     "name": "stderr",
     "output_type": "stream",
     "text": [
      "/Users/vladimirsevcov/Downloads/Low-Rank-approx_project-master/Algorithm_2.py:55: RuntimeWarning: overflow encountered in cdouble_scalars\n",
      "  ratio = up/down\n",
      "/Users/vladimirsevcov/Downloads/Low-Rank-approx_project-master/Algorithm_2.py:55: RuntimeWarning: invalid value encountered in cdouble_scalars\n",
      "  ratio = up/down\n"
     ]
    },
    {
     "name": "stdout",
     "output_type": "stream",
     "text": [
      "10\n",
      "11\n",
      "12\n",
      "13\n",
      "14\n",
      "15\n"
     ]
    },
    {
     "name": "stderr",
     "output_type": "stream",
     "text": [
      "/Users/vladimirsevcov/Downloads/Low-Rank-approx_project-master/func/Summation_Alg.py:18: RuntimeWarning: overflow encountered in multiply\n",
      "  S[i, j] = S[i-1, j] + eigen[i]*S[i-1,j-1]\n",
      "/Users/vladimirsevcov/Downloads/Low-Rank-approx_project-master/func/Summation_Alg.py:18: RuntimeWarning: invalid value encountered in multiply\n",
      "  S[i, j] = S[i-1, j] + eigen[i]*S[i-1,j-1]\n",
      "/Users/vladimirsevcov/Downloads/Low-Rank-approx_project-master/func/Summation_Alg.py:18: RuntimeWarning: overflow encountered in cdouble_scalars\n",
      "  S[i, j] = S[i-1, j] + eigen[i]*S[i-1,j-1]\n"
     ]
    },
    {
     "name": "stdout",
     "output_type": "stream",
     "text": [
      "5\n",
      "6\n"
     ]
    },
    {
     "name": "stderr",
     "output_type": "stream",
     "text": [
      "/Users/vladimirsevcov/Downloads/Low-Rank-approx_project-master/Algorithm_3.py:78: RuntimeWarning: overflow encountered in cdouble_scalars\n",
      "  r = up/down\n",
      "/Users/vladimirsevcov/Downloads/Low-Rank-approx_project-master/Algorithm_3.py:78: RuntimeWarning: invalid value encountered in cdouble_scalars\n",
      "  r = up/down\n"
     ]
    },
    {
     "name": "stdout",
     "output_type": "stream",
     "text": [
      "7\n",
      "8\n",
      "9\n",
      "10\n",
      "11\n",
      "12\n",
      "13\n",
      "14\n",
      "15\n"
     ]
    }
   ],
   "source": [
    "m = 30\n",
    "n = 20\n",
    "\n",
    "A = np.zeros((m,n))\n",
    "\n",
    "arrK2 = []\n",
    "arrE2 = []\n",
    "arrT2 = []\n",
    "\n",
    "arrK3 = []\n",
    "arrE3 = []\n",
    "arrT3 = []\n",
    "\n",
    "for i in range(m):\n",
    "    for j in range(n):\n",
    "        A[i][j] = 1/(i+j+1)\n",
    "        \n",
    "        \n",
    "for k in range(5,16):\n",
    "    start = pd.Timestamp.now()\n",
    "    C, U, R ,Cs, Rs = Algorithm_2(A, k)\n",
    "    end = pd.Timestamp.now()\n",
    "    print(k)\n",
    "    arrK2.append(k)\n",
    "    time = end - start\n",
    "    arrT2.append(time.total_seconds())\n",
    "    arrE2.append(np.linalg.norm(A - C@U@R, 'fro'))\n",
    "    \n",
    "for k in range(5,16):\n",
    "    start = pd.Timestamp.now()\n",
    "    C, U, R ,Cs, Rs = Algorithm_3(A, k)\n",
    "    end = pd.Timestamp.now()\n",
    "    print(k)\n",
    "    arrK3.append(k)\n",
    "    time = end - start\n",
    "    arrT3.append(time.total_seconds())\n",
    "    arrE3.append(np.linalg.norm(A - C@U@R, 'fro'))\n",
    "\n",
    "\n"
   ]
  },
  {
   "cell_type": "code",
   "execution_count": 5,
   "metadata": {},
   "outputs": [
    {
     "data": {
      "image/png": "[encoded data removed]",
      "text/plain": [
       "<Figure size 432x288 with 1 Axes>"
      ]
     },
     "metadata": {
      "needs_background": "light"
     },
     "output_type": "display_data"
    }
   ],
   "source": [
    "fig = plt.figure()\n",
    "plt.plot(arrK2,arrE2, label = \"Algorithm 2\")\n",
    "plt.plot(arrK3,arrE3, label = \"Algorithm 3\")\n",
    "plt.legend()\n",
    "\n",
    "plt.yscale('log')\n",
    "plt.ylabel(\"норма невязки\")\n",
    "plt.xlabel(\"порядок аппроксимации\")\n",
    "plt.grid()\n",
    "plt.show()"
   ]
  },
  {
   "cell_type": "code",
   "execution_count": 6,
   "metadata": {},
   "outputs": [
    {
     "data": {
      "image/png": "[encoded data removed]",
      "text/plain": [
       "<Figure size 432x288 with 1 Axes>"
      ]
     },
     "metadata": {
      "needs_background": "light"
     },
     "output_type": "display_data"
    }
   ],
   "source": [
    "fig = plt.figure()\n",
    "plt.plot(arrK2,arrT2, label = \"Algorithm 2\")\n",
    "plt.plot(arrK3,arrT3, label = \"Algorithm 3\")\n",
    "plt.legend()\n",
    "\n",
    "plt.yscale('log')\n",
    "plt.ylabel(\"время работы\")\n",
    "plt.xlabel(\"порядок аппроксимации\")\n",
    "plt.grid()\n",
    "plt.show()"
   ]
  },
  {
   "cell_type": "markdown",
   "metadata": {},
   "source": [
    "Rank test"
   ]
  },
  {
   "cell_type": "code",
   "execution_count": 7,
   "metadata": {},
   "outputs": [
    {
     "name": "stderr",
     "output_type": "stream",
     "text": [
      "/Users/vladimirsevcov/Downloads/Low-Rank-approx_project-master/Algorithm_2.py:55: RuntimeWarning: overflow encountered in cdouble_scalars\n",
      "  ratio = up/down\n",
      "/Users/vladimirsevcov/Downloads/Low-Rank-approx_project-master/Algorithm_2.py:55: RuntimeWarning: invalid value encountered in cdouble_scalars\n",
      "  ratio = up/down\n"
     ]
    },
    {
     "name": "stdout",
     "output_type": "stream",
     "text": [
      "5\n",
      "6\n",
      "7\n",
      "8\n",
      "9\n",
      "10\n",
      "11\n",
      "12\n",
      "13\n",
      "14\n",
      "15\n"
     ]
    },
    {
     "name": "stderr",
     "output_type": "stream",
     "text": [
      "/Users/vladimirsevcov/Downloads/Low-Rank-approx_project-master/func/Summation_Alg.py:18: RuntimeWarning: overflow encountered in multiply\n",
      "  S[i, j] = S[i-1, j] + eigen[i]*S[i-1,j-1]\n",
      "/Users/vladimirsevcov/Downloads/Low-Rank-approx_project-master/func/Summation_Alg.py:18: RuntimeWarning: invalid value encountered in multiply\n",
      "  S[i, j] = S[i-1, j] + eigen[i]*S[i-1,j-1]\n",
      "/Users/vladimirsevcov/Downloads/Low-Rank-approx_project-master/func/Summation_Alg.py:18: RuntimeWarning: overflow encountered in cdouble_scalars\n",
      "  S[i, j] = S[i-1, j] + eigen[i]*S[i-1,j-1]\n"
     ]
    },
    {
     "name": "stdout",
     "output_type": "stream",
     "text": [
      "5\n",
      "6\n",
      "7\n",
      "8\n",
      "9\n",
      "10\n"
     ]
    },
    {
     "name": "stderr",
     "output_type": "stream",
     "text": [
      "/Users/vladimirsevcov/Downloads/Low-Rank-approx_project-master/Algorithm_3.py:78: RuntimeWarning: overflow encountered in cdouble_scalars\n",
      "  r = up/down\n",
      "/Users/vladimirsevcov/Downloads/Low-Rank-approx_project-master/Algorithm_3.py:78: RuntimeWarning: invalid value encountered in cdouble_scalars\n",
      "  r = up/down\n"
     ]
    },
    {
     "name": "stdout",
     "output_type": "stream",
     "text": [
      "11\n",
      "12\n",
      "13\n",
      "14\n",
      "15\n"
     ]
    },
    {
     "name": "stderr",
     "output_type": "stream",
     "text": [
      "/Users/vladimirsevcov/Downloads/Low-Rank-approx_project-master/Algorithm_3.py:98: RuntimeWarning: divide by zero encountered in double_scalars\n",
      "  B = B - 1/B[i_t][j_t] * np.outer(B[:, j_t], B[i_t, :])\n",
      "/Users/vladimirsevcov/Downloads/Low-Rank-approx_project-master/Algorithm_3.py:98: RuntimeWarning: invalid value encountered in multiply\n",
      "  B = B - 1/B[i_t][j_t] * np.outer(B[:, j_t], B[i_t, :])\n"
     ]
    }
   ],
   "source": [
    "m = 30\n",
    "n = 20\n",
    "rank = 10\n",
    "A = GetKRank(m,n,rank,-1,1,np.random.uniform)\n",
    "\n",
    "arrKR2 = []\n",
    "arrER2 = []\n",
    "arrTR2 = []\n",
    "\n",
    "arrKR3 = []\n",
    "arrER3 = []\n",
    "arrTR3 = []\n",
    "\n",
    "\n",
    "        \n",
    "            \n",
    "for k in range(5,16):\n",
    "    start = pd.Timestamp.now()\n",
    "    C, U, R ,Cs, Rs = Algorithm_2(A, k)\n",
    "    end = pd.Timestamp.now()\n",
    "    print(k)\n",
    "    arrKR2.append(k)\n",
    "    time = end - start\n",
    "    arrTR2.append(time.total_seconds())\n",
    "    arrER2.append(np.linalg.norm(A - C@U@R, 'fro'))\n",
    "    \n",
    "for k in range(5,16):\n",
    "    start = pd.Timestamp.now()\n",
    "    C, U, R ,Cs, Rs = Algorithm_3(A, k)\n",
    "    end = pd.Timestamp.now()\n",
    "    print(k)\n",
    "    arrKR3.append(k)\n",
    "    time = end - start\n",
    "    arrTR3.append(time.total_seconds())\n",
    "    arrER3.append(np.linalg.norm(A - C@U@R, 'fro'))"
   ]
  },
  {
   "cell_type": "code",
   "execution_count": 8,
   "metadata": {},
   "outputs": [
    {
     "data": {
      "image/png": "[encoded data removed]",
      "text/plain": [
       "<Figure size 432x288 with 1 Axes>"
      ]
     },
     "metadata": {
      "needs_background": "light"
     },
     "output_type": "display_data"
    }
   ],
   "source": [
    "fig = plt.figure()\n",
    "plt.plot(arrKR2,arrER2, label = \"Algorithm 2\")\n",
    "plt.plot(arrKR3,arrER3, label = \"Algorithm 3\")\n",
    "plt.legend()\n",
    "\n",
    "plt.yscale('log')\n",
    "plt.ylabel(\"норма невязки\")\n",
    "plt.xlabel(\"порядок аппроксимации\")\n",
    "plt.grid()\n",
    "plt.show()"
   ]
  },
  {
   "cell_type": "code",
   "execution_count": 9,
   "metadata": {},
   "outputs": [
    {
     "data": {
      "image/png": "[encoded data removed]",
      "text/plain": [
       "<Figure size 432x288 with 1 Axes>"
      ]
     },
     "metadata": {
      "needs_background": "light"
     },
     "output_type": "display_data"
    }
   ],
   "source": [
    "fig = plt.figure()\n",
    "plt.plot(arrKR2,arrTR2, label = \"Algorithm 2\")\n",
    "plt.plot(arrKR3,arrTR3, label = \"Algorithm 3\")\n",
    "plt.legend()\n",
    "\n",
    "plt.yscale('log')\n",
    "plt.ylabel(\"время работы\")\n",
    "plt.xlabel(\"порядок аппроксимации\")\n",
    "plt.grid()\n",
    "plt.show()"
   ]
  },
  {
   "cell_type": "code",
   "execution_count": 10,
   "metadata": {},
   "outputs": [
    {
     "data": {
      "text/plain": [
       "173.87164036760373"
      ]
     },
     "execution_count": 10,
     "metadata": {},
     "output_type": "execute_result"
    }
   ],
   "source": [
    "np.linalg.norm(A,'fro')"
   ]
  },
  {
   "cell_type": "code",
   "execution_count": null,
   "metadata": {},
   "outputs": [],
   "source": []
  },
  {
   "cell_type": "markdown",
   "metadata": {},
   "source": [
    "Sparse test"
   ]
  },
  {
   "cell_type": "code",
   "execution_count": 11,
   "metadata": {},
   "outputs": [
    {
     "name": "stdout",
     "output_type": "stream",
     "text": [
      "5\n",
      "6\n",
      "7\n",
      "8\n",
      "9\n",
      "10\n"
     ]
    },
    {
     "name": "stderr",
     "output_type": "stream",
     "text": [
      "/Users/vladimirsevcov/Downloads/Low-Rank-approx_project-master/Algorithm_2.py:55: RuntimeWarning: overflow encountered in cdouble_scalars\n",
      "  ratio = up/down\n",
      "/Users/vladimirsevcov/Downloads/Low-Rank-approx_project-master/Algorithm_2.py:55: RuntimeWarning: invalid value encountered in cdouble_scalars\n",
      "  ratio = up/down\n"
     ]
    },
    {
     "name": "stdout",
     "output_type": "stream",
     "text": [
      "11\n",
      "12\n",
      "13\n",
      "14\n",
      "15\n"
     ]
    },
    {
     "name": "stderr",
     "output_type": "stream",
     "text": [
      "/Users/vladimirsevcov/Downloads/Low-Rank-approx_project-master/func/Summation_Alg.py:18: RuntimeWarning: overflow encountered in multiply\n",
      "  S[i, j] = S[i-1, j] + eigen[i]*S[i-1,j-1]\n",
      "/Users/vladimirsevcov/Downloads/Low-Rank-approx_project-master/func/Summation_Alg.py:18: RuntimeWarning: invalid value encountered in multiply\n",
      "  S[i, j] = S[i-1, j] + eigen[i]*S[i-1,j-1]\n",
      "/Users/vladimirsevcov/Downloads/Low-Rank-approx_project-master/func/Summation_Alg.py:18: RuntimeWarning: overflow encountered in cdouble_scalars\n",
      "  S[i, j] = S[i-1, j] + eigen[i]*S[i-1,j-1]\n"
     ]
    },
    {
     "name": "stdout",
     "output_type": "stream",
     "text": [
      "5\n",
      "6\n",
      "7\n",
      "8\n",
      "9\n",
      "10\n",
      "11\n",
      "12\n",
      "13\n",
      "14\n",
      "15\n"
     ]
    }
   ],
   "source": [
    "m = 30\n",
    "n = 20\n",
    "dens = 0.2\n",
    "\n",
    "A = GetSparse(m,n,dens,-1,1,np.random.uniform)\n",
    "\n",
    "arrKS2 = []\n",
    "arrES2 = []\n",
    "arrTS2 = []\n",
    "\n",
    "arrKS3 = []\n",
    "arrES3 = []\n",
    "arrTS3 = []\n",
    "\n",
    "\n",
    "        \n",
    "            \n",
    "for k in range(5,16):\n",
    "    start = pd.Timestamp.now()\n",
    "    C, U, R ,Cs, Rs = Algorithm_2(A, k)\n",
    "    end = pd.Timestamp.now()\n",
    "    print(k)\n",
    "    arrKS2.append(k)\n",
    "    time = end - start\n",
    "    arrTS2.append(time.total_seconds())\n",
    "    arrES2.append(np.linalg.norm(A - C@U@R, 'fro'))\n",
    "    \n",
    "for k in range(5,16):\n",
    "    start = pd.Timestamp.now()\n",
    "    C, U, R ,Cs, Rs = Algorithm_3(A, k)\n",
    "    end = pd.Timestamp.now()\n",
    "    print(k)\n",
    "    arrKS3.append(k)\n",
    "    time = end - start\n",
    "    arrTS3.append(time.total_seconds())\n",
    "    arrES3.append(np.linalg.norm(A - C@U@R, 'fro'))"
   ]
  },
  {
   "cell_type": "code",
   "execution_count": 12,
   "metadata": {},
   "outputs": [
    {
     "data": {
      "image/png": "[encoded data removed]",
      "text/plain": [
       "<Figure size 432x288 with 1 Axes>"
      ]
     },
     "metadata": {
      "needs_background": "light"
     },
     "output_type": "display_data"
    }
   ],
   "source": [
    "fig = plt.figure()\n",
    "plt.plot(arrKS2,arrES2, label = \"Algorithm 2\")\n",
    "plt.plot(arrKS3,arrES3, label = \"Algorithm 3\")\n",
    "plt.legend()\n",
    "\n",
    "plt.yscale('log')\n",
    "plt.ylabel(\"норма невязки\")\n",
    "plt.xlabel(\"порядок аппроксимации\")\n",
    "plt.grid()\n",
    "plt.show()"
   ]
  },
  {
   "cell_type": "code",
   "execution_count": 13,
   "metadata": {},
   "outputs": [
    {
     "data": {
      "image/png": "[encoded data removed]",
      "text/plain": [
       "<Figure size 432x288 with 1 Axes>"
      ]
     },
     "metadata": {
      "needs_background": "light"
     },
     "output_type": "display_data"
    }
   ],
   "source": [
    "fig = plt.figure()\n",
    "plt.plot(arrK2,arrT2, label = \"Algorithm 2\")\n",
    "plt.plot(arrK3,arrT3, label = \"Algorithm 3\")\n",
    "plt.legend()\n",
    "\n",
    "plt.yscale('log')\n",
    "plt.ylabel(\"время работы\")\n",
    "plt.xlabel(\"порядок аппроксимации\")\n",
    "plt.grid()\n",
    "plt.show()"
   ]
  },
  {
   "cell_type": "markdown",
   "metadata": {},
   "source": [
    "Dim Test"
   ]
  },
  {
   "cell_type": "code",
   "execution_count": 14,
   "metadata": {},
   "outputs": [
    {
     "data": {
      "text/plain": [
       "7.180352796688912"
      ]
     },
     "execution_count": 14,
     "metadata": {},
     "output_type": "execute_result"
    }
   ],
   "source": [
    "np.linalg.norm(A,'fro')"
   ]
  },
  {
   "cell_type": "code",
   "execution_count": 15,
   "metadata": {},
   "outputs": [
    {
     "data": {
      "text/plain": [
       "array([[ 0.        ,  0.        ,  0.        ,  0.        ,  0.        ,\n",
       "         0.        ,  0.        ,  0.        , -0.65101431,  0.        ,\n",
       "        -0.99148288,  0.        ,  0.        ,  0.        ,  0.        ,\n",
       "         0.        ,  0.        ,  0.        ,  0.44268444,  0.        ],\n",
       "       [ 0.        ,  0.        ,  0.        , -0.95311782,  0.        ,\n",
       "         0.        ,  0.        ,  0.        ,  0.        ,  0.        ,\n",
       "         0.11839459,  0.        ,  0.        ,  0.        ,  0.        ,\n",
       "         0.        ,  0.        ,  0.        ,  0.        ,  0.        ],\n",
       "       [ 0.99482733,  0.        ,  0.        ,  0.        ,  0.        ,\n",
       "         0.        ,  0.        ,  0.85438168,  0.        ,  0.        ,\n",
       "         0.        ,  0.        ,  0.        ,  0.        ,  0.37160124,\n",
       "         0.        ,  0.        , -0.33662809,  0.        ,  0.        ],\n",
       "       [ 0.        ,  0.        ,  0.        ,  0.        ,  0.        ,\n",
       "         0.        ,  0.        ,  0.87497724,  0.        ,  0.        ,\n",
       "         0.        ,  0.        ,  0.        ,  0.        ,  0.        ,\n",
       "         0.        ,  0.42710869,  0.        ,  0.66494541,  0.        ],\n",
       "       [ 0.        , -0.80042666,  0.        ,  0.        ,  0.        ,\n",
       "         0.        ,  0.        , -0.95969816,  0.        ,  0.        ,\n",
       "         0.        ,  0.        ,  0.        ,  0.        ,  0.        ,\n",
       "         0.        ,  0.        ,  0.58183218,  0.        ,  0.        ],\n",
       "       [ 0.        ,  0.        ,  0.        ,  0.03954276,  0.        ,\n",
       "         0.57968562,  0.        ,  0.32478768,  0.        , -0.8416768 ,\n",
       "         0.        ,  0.        ,  0.        ,  0.        ,  0.        ,\n",
       "         0.        ,  0.        ,  0.        ,  0.87551102,  0.        ],\n",
       "       [ 0.1861523 ,  0.        ,  0.        ,  0.        ,  0.        ,\n",
       "         0.        ,  0.        ,  0.92115086,  0.        ,  0.        ,\n",
       "         0.        ,  0.        ,  0.        ,  0.        ,  0.        ,\n",
       "         0.11227956, -0.41841091,  0.        ,  0.        ,  0.57103487],\n",
       "       [ 0.60120288,  0.        ,  0.        ,  0.        ,  0.        ,\n",
       "         0.        ,  0.        , -0.60953118,  0.        ,  0.47637234,\n",
       "         0.        ,  0.        ,  0.        ,  0.        ,  0.        ,\n",
       "         0.        ,  0.        ,  0.        ,  0.        ,  0.        ],\n",
       "       [-0.7282856 ,  0.        ,  0.        ,  0.        ,  0.        ,\n",
       "         0.        ,  0.        ,  0.        ,  0.        ,  0.        ,\n",
       "         0.        ,  0.3204105 ,  0.        ,  0.65493038,  0.        ,\n",
       "         0.        ,  0.        ,  0.16728886,  0.        ,  0.        ],\n",
       "       [ 0.        ,  0.        ,  0.        ,  0.        , -0.84058237,\n",
       "         0.        , -0.38147429,  0.        ,  0.        ,  0.76491086,\n",
       "         0.        ,  0.        ,  0.        ,  0.        ,  0.        ,\n",
       "         0.        ,  0.        ,  0.        ,  0.        ,  0.        ],\n",
       "       [ 0.        ,  0.        ,  0.        ,  0.        ,  0.        ,\n",
       "         0.        ,  0.        ,  0.        ,  0.        ,  0.        ,\n",
       "         0.94881208,  0.        ,  0.        ,  0.        ,  0.        ,\n",
       "         0.        ,  0.        ,  0.90759884,  0.82071659,  0.        ],\n",
       "       [-0.50483089,  0.39876888,  0.        ,  0.        ,  0.        ,\n",
       "         0.        ,  0.        ,  0.        ,  0.81714825,  0.        ,\n",
       "         0.        ,  0.56235098,  0.        ,  0.        , -0.91460902,\n",
       "         0.        ,  0.        ,  0.58425281,  0.        ,  0.        ],\n",
       "       [ 0.        ,  0.91084498,  0.06192972,  0.        ,  0.        ,\n",
       "         0.        ,  0.        ,  0.        ,  0.        , -0.06726184,\n",
       "         0.        ,  0.        ,  0.        , -0.01920949,  0.        ,\n",
       "         0.        , -0.4124898 ,  0.        ,  0.        ,  0.        ],\n",
       "       [ 0.        ,  0.        ,  0.        ,  0.        ,  0.        ,\n",
       "         0.        , -0.0044728 ,  0.        ,  0.        ,  0.        ,\n",
       "         0.        ,  0.        ,  0.        ,  0.        , -0.55555509,\n",
       "         0.        ,  0.        , -0.72354874,  0.        ,  0.        ],\n",
       "       [ 0.27138255, -0.96853342,  0.38413625,  0.        ,  0.        ,\n",
       "         0.        ,  0.        ,  0.        ,  0.        ,  0.        ,\n",
       "        -0.88194689,  0.        ,  0.        ,  0.        ,  0.        ,\n",
       "         0.        ,  0.        ,  0.        , -0.68377763,  0.        ],\n",
       "       [ 0.        ,  0.        ,  0.        ,  0.        ,  0.        ,\n",
       "         0.        ,  0.30824464,  0.        ,  0.        ,  0.        ,\n",
       "         0.        ,  0.        ,  0.        ,  0.        , -0.58682804,\n",
       "         0.        ,  0.        , -0.27590436,  0.        ,  0.94867616],\n",
       "       [ 0.        ,  0.        ,  0.        ,  0.        ,  0.        ,\n",
       "         0.        ,  0.        ,  0.55962969,  0.94474077,  0.        ,\n",
       "         0.        ,  0.        ,  0.        , -0.85179214,  0.        ,\n",
       "         0.        ,  0.59634531,  0.        ,  0.        ,  0.        ],\n",
       "       [ 0.        ,  0.34524311,  0.        ,  0.13616696,  0.        ,\n",
       "         0.        ,  0.        ,  0.        , -0.84075139,  0.        ,\n",
       "         0.        ,  0.        ,  0.        ,  0.        ,  0.        ,\n",
       "        -0.46954335,  0.        ,  0.        ,  0.        ,  0.        ],\n",
       "       [ 0.        ,  0.        ,  0.        ,  0.        ,  0.        ,\n",
       "         0.        ,  0.        ,  0.        ,  0.        ,  0.        ,\n",
       "         0.        ,  0.        ,  0.33656147,  0.        ,  0.        ,\n",
       "         0.        ,  0.        ,  0.        ,  0.        ,  0.        ],\n",
       "       [-0.36950249,  0.        ,  0.        , -0.11359546,  0.        ,\n",
       "         0.        , -0.72209618, -0.89585267,  0.        ,  0.        ,\n",
       "         0.        ,  0.        ,  0.        ,  0.        ,  0.        ,\n",
       "         0.        ,  0.        ,  0.        ,  0.        ,  0.        ],\n",
       "       [-0.31975238, -0.4881454 , -0.59661156,  0.        ,  0.        ,\n",
       "         0.        , -0.27332079,  0.        ,  0.        ,  0.        ,\n",
       "         0.        , -0.12114622,  0.45018358,  0.        ,  0.        ,\n",
       "         0.        ,  0.        ,  0.        , -0.18791781,  0.        ],\n",
       "       [ 0.        ,  0.        ,  0.        , -0.14074098, -0.86953486,\n",
       "         0.        , -0.45758493, -0.95667999,  0.        ,  0.        ,\n",
       "         0.        , -0.97044332,  0.        ,  0.        , -0.73119559,\n",
       "         0.        ,  0.        ,  0.        ,  0.        ,  0.        ],\n",
       "       [ 0.49710683,  0.        ,  0.        ,  0.39902758,  0.        ,\n",
       "         0.        ,  0.        , -0.36030117,  0.        ,  0.        ,\n",
       "         0.        ,  0.        ,  0.        ,  0.        ,  0.        ,\n",
       "         0.        ,  0.        ,  0.        ,  0.        ,  0.        ],\n",
       "       [ 0.        ,  0.        ,  0.        ,  0.        ,  0.        ,\n",
       "         0.        ,  0.        ,  0.        ,  0.        ,  0.        ,\n",
       "         0.        ,  0.        ,  0.        ,  0.        ,  0.        ,\n",
       "         0.        ,  0.        ,  0.81361602,  0.        ,  0.        ],\n",
       "       [ 0.96569573,  0.085846  , -0.73987943, -0.47228344,  0.        ,\n",
       "         0.04503651,  0.        ,  0.        ,  0.6345227 ,  0.        ,\n",
       "         0.        , -0.94735961,  0.        , -0.98352878,  0.        ,\n",
       "         0.        ,  0.        ,  0.79822166, -0.97448676,  0.        ],\n",
       "       [ 0.        , -0.10493786,  0.        ,  0.        ,  0.        ,\n",
       "         0.        ,  0.        ,  0.        ,  0.        ,  0.48649005,\n",
       "         0.        ,  0.        , -0.91126684,  0.        ,  0.        ,\n",
       "         0.        ,  0.09625718, -0.18290622,  0.74152627,  0.        ],\n",
       "       [ 0.        ,  0.        , -0.52484428,  0.34573725,  0.        ,\n",
       "         0.        ,  0.22328094,  0.        ,  0.        ,  0.        ,\n",
       "         0.        , -0.44321717,  0.        ,  0.        , -0.68554883,\n",
       "         0.70955603,  0.        ,  0.02901929,  0.        ,  0.        ],\n",
       "       [ 0.        ,  0.        ,  0.        ,  0.80023835,  0.        ,\n",
       "         0.        , -0.10054555,  0.        ,  0.        ,  0.99895076,\n",
       "         0.        ,  0.        ,  0.95696169, -0.31728684,  0.        ,\n",
       "         0.        , -0.94616738,  0.        ,  0.        ,  0.        ],\n",
       "       [ 0.        ,  0.        ,  0.52648245,  0.        ,  0.        ,\n",
       "         0.        ,  0.        ,  0.        , -0.19554189, -0.63963227,\n",
       "         0.        ,  0.        , -0.80269528,  0.        ,  0.        ,\n",
       "         0.        ,  0.        ,  0.        ,  0.66662841,  0.        ],\n",
       "       [ 0.        , -0.63277593,  0.        ,  0.        ,  0.        ,\n",
       "         0.        ,  0.        ,  0.        , -0.65341378,  0.        ,\n",
       "         0.        ,  0.        ,  0.        ,  0.86225097,  0.        ,\n",
       "         0.        ,  0.        ,  0.        ,  0.        ,  0.        ]])"
      ]
     },
     "execution_count": 15,
     "metadata": {},
     "output_type": "execute_result"
    }
   ],
   "source": [
    "A"
   ]
  },
  {
   "cell_type": "code",
   "execution_count": 16,
   "metadata": {},
   "outputs": [
    {
     "name": "stderr",
     "output_type": "stream",
     "text": [
      "No handles with labels found to put in legend.\n"
     ]
    },
    {
     "data": {
      "image/png": "[encoded data removed]",
      "text/plain": [
       "<Figure size 432x288 with 1 Axes>"
      ]
     },
     "metadata": {
      "needs_background": "light"
     },
     "output_type": "display_data"
    }
   ],
   "source": [
    "arrK210 = []\n",
    "arrE210 = []\n",
    "arrT210 = []\n",
    "\n",
    "arrK310 = []\n",
    "arrE310 = []\n",
    "arrT310 = []\n",
    "\n",
    "\n",
    "\n",
    "\n",
    "\n",
    "#arrK210, arrE210, arrT210, arrK310, arrE310, arrT310 = GetRankTest(50,60,30,20,40)\n",
    "\n",
    "\n",
    "\n",
    "fig = plt.figure()\n",
    "\n",
    "#plt.plot(arrK210,arrE210, label = \"Algorithm 2, rank = 30\")\n",
    "#plt.plot(arrK310,arrE310, label = \"Algorithm 3, rank = 30\")\n",
    "plt.legend()\n",
    "\n",
    "plt.yscale('log')\n",
    "plt.ylabel(\"норма невязки\")\n",
    "plt.xlabel(\"порядок аппроксимации\")\n",
    "plt.grid()\n",
    "#plt.show()"
   ]
  },
  {
   "cell_type": "code",
   "execution_count": 17,
   "metadata": {},
   "outputs": [
    {
     "name": "stderr",
     "output_type": "stream",
     "text": [
      "No handles with labels found to put in legend.\n"
     ]
    },
    {
     "data": {
      "image/png": "[encoded data removed]",
      "text/plain": [
       "<Figure size 432x288 with 1 Axes>"
      ]
     },
     "metadata": {
      "needs_background": "light"
     },
     "output_type": "display_data"
    }
   ],
   "source": [
    "fig = plt.figure()\n",
    "#plt.plot(arrK210,arrT210, label = \"Algorithm 2, rank = 30\")\n",
    "#plt.plot(arrK310,arrT310, label = \"Algorithm 3, rank = 30\")\n",
    "plt.legend()\n",
    "\n",
    "plt.yscale('log')\n",
    "plt.ylabel(\"норма невязки\")\n",
    "plt.xlabel(\"порядок аппроксимации\")\n",
    "plt.grid()\n",
    "#plt.show()"
   ]
  },
  {
   "cell_type": "code",
   "execution_count": null,
   "metadata": {},
   "outputs": [],
   "source": []
  }
 ],
 "metadata": {
  "kernelspec": {
   "display_name": "Python 3",
   "language": "python",
   "name": "python3"
  },
  "language_info": {
   "codemirror_mode": {
    "name": "ipython",
    "version": 3
   },
   "file_extension": ".py",
   "mimetype": "text/x-python",
   "name": "python",
   "nbconvert_exporter": "python",
   "pygments_lexer": "ipython3",
   "version": "3.7.6"
  }
 },
 "nbformat": 4,
 "nbformat_minor": 4
}
