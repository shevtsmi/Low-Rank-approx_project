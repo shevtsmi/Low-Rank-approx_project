{
 "cells": [
  {
   "cell_type": "code",
   "execution_count": 1,
   "metadata": {},
   "outputs": [],
   "source": [
    "import numpy as np\n",
    "import math\n",
    "import os,sys,inspect\n",
    "import random\n",
    "import matplotlib.pyplot as plt\n",
    "import pandas as pd\n",
    "\n",
    "currentdir = os.path.dirname(os.path.abspath(inspect.getfile(inspect.currentframe())))\n",
    "parentdir = os.path.dirname(currentdir)\n",
    "sys.path.insert(0,parentdir) \n",
    "\n",
    "from Algorithm_2 import Algorithm_2, GetCoFromEigen\n",
    "from Algorithm_3 import Algorithm_3\n",
    "from func.Select_Index import Select_Columns, Select_Rows, Select_Ind\n",
    "from func.Summation_Alg import GetCoFromEigen\n",
    "\n",
    "import itertools \n",
    "from itertools import combinations, chain \n",
    "\n",
    "def findsubsets(r, n): \n",
    "    s = range(0, n)\n",
    "    return list(itertools.combinations(s, r)) \n",
    "\n",
    "def Check_Best_CUR(A, k):\n",
    "    \n",
    "    ans = math.inf\n",
    "    columns = []\n",
    "    rows = []\n",
    "    \n",
    "    m = A.shape[0]\n",
    "    n = A.shape[1]\n",
    "    \n",
    "    Cols = findsubsets(k, n)\n",
    "    Rows = findsubsets(k, m)\n",
    "    \n",
    "    for col__ in Cols:\n",
    "        for row__ in Rows:\n",
    "            \n",
    "            col = list(col__)\n",
    "            row = list(row__)\n",
    "            \n",
    "            C  = Select_Columns(A, col)\n",
    "            R  = Select_Rows(A, row)\n",
    "            U = np.linalg.pinv(C) @ A @ np.linalg.pinv(R)\n",
    "            \n",
    "            norm = np.linalg.norm(A - C @ U @ R,'fro')\n",
    "            if(norm < ans):\n",
    "                ans = norm\n",
    "                columns = col\n",
    "                rows = row\n",
    "            \n",
    "    return ans, columns, rows"
   ]
  },
  {
   "cell_type": "code",
   "execution_count": 2,
   "metadata": {},
   "outputs": [],
   "source": [
    "def GetSparse(m, n, dens, a, b, distr):\n",
    "    A = np.zeros((m,n))\n",
    "    for i in range(m):\n",
    "        for j in range(n):\n",
    "            if random.random() < dens:\n",
    "                A[i][j] = distr(a, b)\n",
    "    return A\n",
    "\n",
    "\n",
    "def GetKRank(m, n, k, a, b, distr):\n",
    "    Z = np.zeros((m,n))\n",
    "    for i in range(k):\n",
    "        Z[i][i] = distr(a, b)\n",
    "    U = np.random.uniform(a,b, (m,m))\n",
    "    U = U @ U.T\n",
    "    V = np.random.uniform(a,b, (n,n))\n",
    "    V = V @ V.T\n",
    "    return U @ Z @ V"
   ]
  },
  {
   "cell_type": "code",
   "execution_count": 3,
   "metadata": {},
   "outputs": [],
   "source": [
    "def GetHilbertTest(m,n):\n",
    "    A = np.zeros((m,n))\n",
    "\n",
    "    arrK2 = []\n",
    "    arrE2 = []\n",
    "    arrT2 = []\n",
    "\n",
    "    arrK3 = []\n",
    "    arrE3 = []\n",
    "    arrT3 = []\n",
    "\n",
    "    for i in range(m):\n",
    "        for j in range(n):\n",
    "            A[i][j] = 1/(i+j+1)\n",
    "        \n",
    "        \n",
    "    for k in range(1,n):\n",
    "        start = pd.Timestamp.now()\n",
    "        C, U, R ,Cs, Rs = Algorithm_2(A, k)\n",
    "        end = pd.Timestamp.now()\n",
    "        print(k)\n",
    "        arrK2.append(k)\n",
    "        time = end - start\n",
    "        arrT2.append(time.total_seconds())\n",
    "        arrE2.append(np.linalg.norm(A - C@U@R, 'fro'))\n",
    "    \n",
    "    for k in range(1,n):\n",
    "        start = pd.Timestamp.now()\n",
    "        C, U, R ,Cs, Rs = Algorithm_3(A, k)\n",
    "        end = pd.Timestamp.now()\n",
    "        #print(k)\n",
    "        arrK3.append(k)\n",
    "        time = end - start\n",
    "        arrT3.append(time.total_seconds())\n",
    "        arrE3.append(np.linalg.norm(A - C@U@R, 'fro'))\n",
    "    return arrK2, arrE2, arrT2, arrK3, arrE3, arrT3\n",
    "\n",
    "def GetRankTest(m,n,rank):\n",
    "    A = GetKRank(m,n,rank,-1,1,np.random.uniform)\n",
    "\n",
    "    arrKR2 = []\n",
    "    arrER2 = []\n",
    "    arrTR2 = []\n",
    "\n",
    "    arrKR3 = []\n",
    "    arrER3 = []\n",
    "    arrTR3 = []\n",
    "\n",
    "\n",
    "        \n",
    "            \n",
    "    for k in range(1,n):\n",
    "        start = pd.Timestamp.now()\n",
    "        C, U, R ,Cs, Rs = Algorithm_2(A, k)\n",
    "        end = pd.Timestamp.now()\n",
    "        #print(k)\n",
    "        arrKR2.append(k)\n",
    "        time = end - start\n",
    "        arrTR2.append(time.total_seconds())\n",
    "        arrER2.append(np.linalg.norm(A - C@U@R, 'fro'))\n",
    "    \n",
    "    for k in range(1,n):\n",
    "        start = pd.Timestamp.now()\n",
    "        C, U, R ,Cs, Rs = Algorithm_3(A, k)\n",
    "        end = pd.Timestamp.now()\n",
    "        #print(k)\n",
    "        arrKR3.append(k)\n",
    "        time = end - start\n",
    "        arrTR3.append(time.total_seconds())\n",
    "        arrER3.append(np.linalg.norm(A - C@U@R, 'fro'))\n",
    "    return arrKR2, arrER2, arrTR2, arrKR3, arrER3, arrTR3\n",
    "\n",
    "def GetSparseTest(m,n,dens):\n",
    "    A = GetSparse(m,n,dens,-1,1,np.random.uniform)\n",
    "\n",
    "    arrKS2 = []\n",
    "    arrES2 = []\n",
    "    arrTS2 = []\n",
    "\n",
    "    arrKS3 = []\n",
    "    arrES3 = []\n",
    "    arrTS3 = []\n",
    "\n",
    "\n",
    "        \n",
    "            \n",
    "    for k in range(1,n):\n",
    "        start = pd.Timestamp.now()\n",
    "        C, U, R ,Cs, Rs = Algorithm_2(A, k)\n",
    "        end = pd.Timestamp.now()\n",
    "        print(k)\n",
    "        arrKS2.append(k)\n",
    "        time = end - start\n",
    "        arrTS2.append(time.total_seconds())\n",
    "        arrES2.append(np.linalg.norm(A - C@U@R, 'fro'))\n",
    "    \n",
    "    for k in range(1,n):\n",
    "        start = pd.Timestamp.now()\n",
    "        C, U, R ,Cs, Rs = Algorithm_3(A, k)\n",
    "        end = pd.Timestamp.now()\n",
    "        #print(k)\n",
    "        arrKS3.append(k)\n",
    "        time = end - start\n",
    "        arrTS3.append(time.total_seconds())\n",
    "        arrES3.append(np.linalg.norm(A - C@U@R, 'fro'))\n",
    "    return KS2,ES2,ET2, KS3, ES3, TS3"
   ]
  },
  {
   "cell_type": "markdown",
   "metadata": {},
   "source": [
    "Hilbert matrix"
   ]
  },
  {
   "cell_type": "code",
   "execution_count": 4,
   "metadata": {},
   "outputs": [
    {
     "name": "stdout",
     "output_type": "stream",
     "text": [
      "1\n",
      "2\n",
      "3\n"
     ]
    },
    {
     "name": "stderr",
     "output_type": "stream",
     "text": [
      "/Users/vladimirsevcov/Downloads/Low-Rank-approx_project-master-2/Algorithm_2.py:55: RuntimeWarning: overflow encountered in cdouble_scalars\n",
      "  ratio = up/down\n",
      "/Users/vladimirsevcov/Downloads/Low-Rank-approx_project-master-2/Algorithm_2.py:55: RuntimeWarning: invalid value encountered in cdouble_scalars\n",
      "  ratio = up/down\n"
     ]
    },
    {
     "name": "stdout",
     "output_type": "stream",
     "text": [
      "4\n",
      "5\n",
      "6\n",
      "7\n",
      "8\n",
      "9\n",
      "10\n",
      "11\n",
      "12\n",
      "13\n",
      "14\n",
      "1\n"
     ]
    },
    {
     "name": "stderr",
     "output_type": "stream",
     "text": [
      "/Users/vladimirsevcov/Downloads/Low-Rank-approx_project-master-2/func/Summation_Alg.py:18: RuntimeWarning: overflow encountered in multiply\n",
      "  S[i, j] = S[i-1, j] + eigen[i]*S[i-1,j-1]\n",
      "/Users/vladimirsevcov/Downloads/Low-Rank-approx_project-master-2/func/Summation_Alg.py:18: RuntimeWarning: invalid value encountered in multiply\n",
      "  S[i, j] = S[i-1, j] + eigen[i]*S[i-1,j-1]\n"
     ]
    },
    {
     "name": "stdout",
     "output_type": "stream",
     "text": [
      "2\n",
      "3\n",
      "4\n",
      "5\n",
      "6\n",
      "7\n"
     ]
    },
    {
     "name": "stderr",
     "output_type": "stream",
     "text": [
      "/Users/vladimirsevcov/Downloads/Low-Rank-approx_project-master-2/Algorithm_3.py:78: RuntimeWarning: overflow encountered in cdouble_scalars\n",
      "  r = up/down\n",
      "/Users/vladimirsevcov/Downloads/Low-Rank-approx_project-master-2/Algorithm_3.py:78: RuntimeWarning: invalid value encountered in cdouble_scalars\n",
      "  r = up/down\n"
     ]
    },
    {
     "name": "stdout",
     "output_type": "stream",
     "text": [
      "8\n"
     ]
    },
    {
     "name": "stderr",
     "output_type": "stream",
     "text": [
      "/Users/vladimirsevcov/Downloads/Low-Rank-approx_project-master-2/func/Summation_Alg.py:18: RuntimeWarning: overflow encountered in cdouble_scalars\n",
      "  S[i, j] = S[i-1, j] + eigen[i]*S[i-1,j-1]\n"
     ]
    },
    {
     "name": "stdout",
     "output_type": "stream",
     "text": [
      "9\n",
      "10\n",
      "11\n",
      "12\n"
     ]
    },
    {
     "name": "stderr",
     "output_type": "stream",
     "text": [
      "/Users/vladimirsevcov/Downloads/Low-Rank-approx_project-master-2/Algorithm_3.py:98: RuntimeWarning: divide by zero encountered in double_scalars\n",
      "  B = B - 1/B[i_t][j_t] * np.outer(B[:, j_t], B[i_t, :])\n",
      "/Users/vladimirsevcov/Downloads/Low-Rank-approx_project-master-2/Algorithm_3.py:98: RuntimeWarning: invalid value encountered in multiply\n",
      "  B = B - 1/B[i_t][j_t] * np.outer(B[:, j_t], B[i_t, :])\n"
     ]
    },
    {
     "name": "stdout",
     "output_type": "stream",
     "text": [
      "13\n",
      "14\n"
     ]
    }
   ],
   "source": [
    "m = 20\n",
    "n = 15\n",
    "\n",
    "A = np.zeros((m,n))\n",
    "\n",
    "arrK2 = []\n",
    "arrE2 = []\n",
    "arrT2 = []\n",
    "\n",
    "arrK3 = []\n",
    "arrE3 = []\n",
    "arrT3 = []\n",
    "\n",
    "for i in range(m):\n",
    "    for j in range(n):\n",
    "        A[i][j] = 1/(i+j+1)\n",
    "        \n",
    "        \n",
    "for k in range(1,n):\n",
    "    start = pd.Timestamp.now()\n",
    "    C, U, R ,Cs, Rs = Algorithm_2(A, k)\n",
    "    end = pd.Timestamp.now()\n",
    "    print(k)\n",
    "    arrK2.append(k)\n",
    "    time = end - start\n",
    "    arrT2.append(time.total_seconds())\n",
    "    arrE2.append(np.linalg.norm(A - C@U@R, 'fro'))\n",
    "    \n",
    "for k in range(1,n):\n",
    "    start = pd.Timestamp.now()\n",
    "    C, U, R ,Cs, Rs = Algorithm_3(A, k)\n",
    "    end = pd.Timestamp.now()\n",
    "    print(k)\n",
    "    arrK3.append(k)\n",
    "    time = end - start\n",
    "    arrT3.append(time.total_seconds())\n",
    "    arrE3.append(np.linalg.norm(A - C@U@R, 'fro'))\n",
    "\n",
    "\n"
   ]
  },
  {
   "cell_type": "code",
   "execution_count": 5,
   "metadata": {},
   "outputs": [
    {
     "data": {
      "image/png": "[encoded data removed]",
      "text/plain": [
       "<Figure size 432x288 with 1 Axes>"
      ]
     },
     "metadata": {
      "needs_background": "light"
     },
     "output_type": "display_data"
    }
   ],
   "source": [
    "fig = plt.figure()\n",
    "plt.plot(arrK2,arrE2, label = \"Algorithm 2\")\n",
    "plt.plot(arrK3,arrE3, label = \"Algorithm 3\")\n",
    "plt.legend()\n",
    "\n",
    "plt.yscale('log')\n",
    "plt.ylabel(\"норма невязки\")\n",
    "plt.xlabel(\"порядок аппроксимации\")\n",
    "plt.grid()\n",
    "plt.show()"
   ]
  },
  {
   "cell_type": "code",
   "execution_count": 6,
   "metadata": {},
   "outputs": [
    {
     "data": {
      "image/png": "[encoded data removed]",
      "text/plain": [
       "<Figure size 432x288 with 1 Axes>"
      ]
     },
     "metadata": {
      "needs_background": "light"
     },
     "output_type": "display_data"
    }
   ],
   "source": [
    "fig = plt.figure()\n",
    "plt.plot(arrK2,arrT2, label = \"Algorithm 2\")\n",
    "plt.plot(arrK3,arrT3, label = \"Algorithm 3\")\n",
    "plt.legend()\n",
    "\n",
    "plt.yscale('log')\n",
    "plt.ylabel(\"время работы\")\n",
    "plt.xlabel(\"порядок аппроксимации\")\n",
    "plt.grid()\n",
    "plt.show()"
   ]
  },
  {
   "cell_type": "markdown",
   "metadata": {},
   "source": [
    "Rank test"
   ]
  },
  {
   "cell_type": "code",
   "execution_count": 7,
   "metadata": {},
   "outputs": [
    {
     "name": "stdout",
     "output_type": "stream",
     "text": [
      "1\n",
      "2\n",
      "3\n",
      "4\n",
      "5\n",
      "6\n"
     ]
    },
    {
     "name": "stderr",
     "output_type": "stream",
     "text": [
      "/Users/vladimirsevcov/Downloads/Low-Rank-approx_project-master-2/Algorithm_2.py:55: RuntimeWarning: overflow encountered in cdouble_scalars\n",
      "  ratio = up/down\n",
      "/Users/vladimirsevcov/Downloads/Low-Rank-approx_project-master-2/Algorithm_2.py:55: RuntimeWarning: invalid value encountered in cdouble_scalars\n",
      "  ratio = up/down\n"
     ]
    },
    {
     "name": "stdout",
     "output_type": "stream",
     "text": [
      "7\n",
      "8\n",
      "9\n",
      "10\n",
      "11\n",
      "12\n",
      "13\n",
      "14\n",
      "1\n"
     ]
    },
    {
     "name": "stderr",
     "output_type": "stream",
     "text": [
      "/Users/vladimirsevcov/Downloads/Low-Rank-approx_project-master-2/func/Summation_Alg.py:18: RuntimeWarning: overflow encountered in multiply\n",
      "  S[i, j] = S[i-1, j] + eigen[i]*S[i-1,j-1]\n",
      "/Users/vladimirsevcov/Downloads/Low-Rank-approx_project-master-2/func/Summation_Alg.py:18: RuntimeWarning: invalid value encountered in multiply\n",
      "  S[i, j] = S[i-1, j] + eigen[i]*S[i-1,j-1]\n"
     ]
    },
    {
     "name": "stdout",
     "output_type": "stream",
     "text": [
      "2\n"
     ]
    },
    {
     "name": "stderr",
     "output_type": "stream",
     "text": [
      "/Users/vladimirsevcov/Downloads/Low-Rank-approx_project-master-2/func/Summation_Alg.py:18: RuntimeWarning: overflow encountered in cdouble_scalars\n",
      "  S[i, j] = S[i-1, j] + eigen[i]*S[i-1,j-1]\n"
     ]
    },
    {
     "name": "stdout",
     "output_type": "stream",
     "text": [
      "3\n",
      "4\n",
      "5\n",
      "6\n",
      "7\n",
      "8\n",
      "9\n"
     ]
    },
    {
     "name": "stderr",
     "output_type": "stream",
     "text": [
      "/Users/vladimirsevcov/Downloads/Low-Rank-approx_project-master-2/Algorithm_3.py:78: RuntimeWarning: overflow encountered in cdouble_scalars\n",
      "  r = up/down\n",
      "/Users/vladimirsevcov/Downloads/Low-Rank-approx_project-master-2/Algorithm_3.py:78: RuntimeWarning: invalid value encountered in cdouble_scalars\n",
      "  r = up/down\n",
      "/Users/vladimirsevcov/Downloads/Low-Rank-approx_project-master-2/Algorithm_3.py:98: RuntimeWarning: divide by zero encountered in double_scalars\n",
      "  B = B - 1/B[i_t][j_t] * np.outer(B[:, j_t], B[i_t, :])\n",
      "/Users/vladimirsevcov/Downloads/Low-Rank-approx_project-master-2/Algorithm_3.py:98: RuntimeWarning: invalid value encountered in multiply\n",
      "  B = B - 1/B[i_t][j_t] * np.outer(B[:, j_t], B[i_t, :])\n"
     ]
    },
    {
     "name": "stdout",
     "output_type": "stream",
     "text": [
      "10\n"
     ]
    },
    {
     "ename": "LinAlgError",
     "evalue": "SVD did not converge",
     "output_type": "error",
     "traceback": [
      "\u001b[0;31m---------------------------------------------------------------------------\u001b[0m",
      "\u001b[0;31mLinAlgError\u001b[0m                               Traceback (most recent call last)",
      "\u001b[0;32m<ipython-input-7-5415d88a3960>\u001b[0m in \u001b[0;36m<module>\u001b[0;34m\u001b[0m\n\u001b[1;32m     27\u001b[0m \u001b[0;32mfor\u001b[0m \u001b[0mk\u001b[0m \u001b[0;32min\u001b[0m \u001b[0mrange\u001b[0m\u001b[0;34m(\u001b[0m\u001b[0;36m1\u001b[0m\u001b[0;34m,\u001b[0m\u001b[0mn\u001b[0m\u001b[0;34m)\u001b[0m\u001b[0;34m:\u001b[0m\u001b[0;34m\u001b[0m\u001b[0;34m\u001b[0m\u001b[0m\n\u001b[1;32m     28\u001b[0m     \u001b[0mstart\u001b[0m \u001b[0;34m=\u001b[0m \u001b[0mpd\u001b[0m\u001b[0;34m.\u001b[0m\u001b[0mTimestamp\u001b[0m\u001b[0;34m.\u001b[0m\u001b[0mnow\u001b[0m\u001b[0;34m(\u001b[0m\u001b[0;34m)\u001b[0m\u001b[0;34m\u001b[0m\u001b[0;34m\u001b[0m\u001b[0m\n\u001b[0;32m---> 29\u001b[0;31m     \u001b[0mC\u001b[0m\u001b[0;34m,\u001b[0m \u001b[0mU\u001b[0m\u001b[0;34m,\u001b[0m \u001b[0mR\u001b[0m \u001b[0;34m,\u001b[0m\u001b[0mCs\u001b[0m\u001b[0;34m,\u001b[0m \u001b[0mRs\u001b[0m \u001b[0;34m=\u001b[0m \u001b[0mAlgorithm_3\u001b[0m\u001b[0;34m(\u001b[0m\u001b[0mA\u001b[0m\u001b[0;34m,\u001b[0m \u001b[0mk\u001b[0m\u001b[0;34m)\u001b[0m\u001b[0;34m\u001b[0m\u001b[0;34m\u001b[0m\u001b[0m\n\u001b[0m\u001b[1;32m     30\u001b[0m     \u001b[0mend\u001b[0m \u001b[0;34m=\u001b[0m \u001b[0mpd\u001b[0m\u001b[0;34m.\u001b[0m\u001b[0mTimestamp\u001b[0m\u001b[0;34m.\u001b[0m\u001b[0mnow\u001b[0m\u001b[0;34m(\u001b[0m\u001b[0;34m)\u001b[0m\u001b[0;34m\u001b[0m\u001b[0;34m\u001b[0m\u001b[0m\n\u001b[1;32m     31\u001b[0m     \u001b[0mprint\u001b[0m\u001b[0;34m(\u001b[0m\u001b[0mk\u001b[0m\u001b[0;34m)\u001b[0m\u001b[0;34m\u001b[0m\u001b[0;34m\u001b[0m\u001b[0m\n",
      "\u001b[0;32m~/Downloads/Low-Rank-approx_project-master-2/Algorithm_3.py\u001b[0m in \u001b[0;36mAlgorithm_3\u001b[0;34m(A, k)\u001b[0m\n\u001b[1;32m     35\u001b[0m     \u001b[0;32mfor\u001b[0m \u001b[0mt\u001b[0m \u001b[0;32min\u001b[0m \u001b[0mrange\u001b[0m\u001b[0;34m(\u001b[0m\u001b[0mk\u001b[0m\u001b[0;34m)\u001b[0m\u001b[0;34m:\u001b[0m\u001b[0;34m\u001b[0m\u001b[0;34m\u001b[0m\u001b[0m\n\u001b[1;32m     36\u001b[0m         \u001b[0mminRatio\u001b[0m \u001b[0;34m=\u001b[0m \u001b[0mmath\u001b[0m\u001b[0;34m.\u001b[0m\u001b[0minf\u001b[0m\u001b[0;34m\u001b[0m\u001b[0;34m\u001b[0m\u001b[0m\n\u001b[0;32m---> 37\u001b[0;31m         \u001b[0mU\u001b[0m\u001b[0;34m,\u001b[0m \u001b[0msig\u001b[0m\u001b[0;34m,\u001b[0m \u001b[0mV\u001b[0m \u001b[0;34m=\u001b[0m \u001b[0mnp\u001b[0m\u001b[0;34m.\u001b[0m\u001b[0mlinalg\u001b[0m\u001b[0;34m.\u001b[0m\u001b[0msvd\u001b[0m\u001b[0;34m(\u001b[0m\u001b[0mB\u001b[0m\u001b[0;34m,\u001b[0m \u001b[0mfull_matrices\u001b[0m\u001b[0;34m=\u001b[0m\u001b[0;32mFalse\u001b[0m\u001b[0;34m)\u001b[0m\u001b[0;34m\u001b[0m\u001b[0;34m\u001b[0m\u001b[0m\n\u001b[0m\u001b[1;32m     38\u001b[0m         \u001b[0mSigma\u001b[0m \u001b[0;34m=\u001b[0m \u001b[0mnp\u001b[0m\u001b[0;34m.\u001b[0m\u001b[0mdiag\u001b[0m\u001b[0;34m(\u001b[0m\u001b[0msig\u001b[0m\u001b[0;34m)\u001b[0m\u001b[0;34m\u001b[0m\u001b[0;34m\u001b[0m\u001b[0m\n\u001b[1;32m     39\u001b[0m \u001b[0;34m\u001b[0m\u001b[0m\n",
      "\u001b[0;32m<__array_function__ internals>\u001b[0m in \u001b[0;36msvd\u001b[0;34m(*args, **kwargs)\u001b[0m\n",
      "\u001b[0;32m/opt/anaconda3/lib/python3.7/site-packages/numpy/linalg/linalg.py\u001b[0m in \u001b[0;36msvd\u001b[0;34m(a, full_matrices, compute_uv, hermitian)\u001b[0m\n\u001b[1;32m   1624\u001b[0m \u001b[0;34m\u001b[0m\u001b[0m\n\u001b[1;32m   1625\u001b[0m         \u001b[0msignature\u001b[0m \u001b[0;34m=\u001b[0m \u001b[0;34m'D->DdD'\u001b[0m \u001b[0;32mif\u001b[0m \u001b[0misComplexType\u001b[0m\u001b[0;34m(\u001b[0m\u001b[0mt\u001b[0m\u001b[0;34m)\u001b[0m \u001b[0;32melse\u001b[0m \u001b[0;34m'd->ddd'\u001b[0m\u001b[0;34m\u001b[0m\u001b[0;34m\u001b[0m\u001b[0m\n\u001b[0;32m-> 1626\u001b[0;31m         \u001b[0mu\u001b[0m\u001b[0;34m,\u001b[0m \u001b[0ms\u001b[0m\u001b[0;34m,\u001b[0m \u001b[0mvh\u001b[0m \u001b[0;34m=\u001b[0m \u001b[0mgufunc\u001b[0m\u001b[0;34m(\u001b[0m\u001b[0ma\u001b[0m\u001b[0;34m,\u001b[0m \u001b[0msignature\u001b[0m\u001b[0;34m=\u001b[0m\u001b[0msignature\u001b[0m\u001b[0;34m,\u001b[0m \u001b[0mextobj\u001b[0m\u001b[0;34m=\u001b[0m\u001b[0mextobj\u001b[0m\u001b[0;34m)\u001b[0m\u001b[0;34m\u001b[0m\u001b[0;34m\u001b[0m\u001b[0m\n\u001b[0m\u001b[1;32m   1627\u001b[0m         \u001b[0mu\u001b[0m \u001b[0;34m=\u001b[0m \u001b[0mu\u001b[0m\u001b[0;34m.\u001b[0m\u001b[0mastype\u001b[0m\u001b[0;34m(\u001b[0m\u001b[0mresult_t\u001b[0m\u001b[0;34m,\u001b[0m \u001b[0mcopy\u001b[0m\u001b[0;34m=\u001b[0m\u001b[0;32mFalse\u001b[0m\u001b[0;34m)\u001b[0m\u001b[0;34m\u001b[0m\u001b[0;34m\u001b[0m\u001b[0m\n\u001b[1;32m   1628\u001b[0m         \u001b[0ms\u001b[0m \u001b[0;34m=\u001b[0m \u001b[0ms\u001b[0m\u001b[0;34m.\u001b[0m\u001b[0mastype\u001b[0m\u001b[0;34m(\u001b[0m\u001b[0m_realType\u001b[0m\u001b[0;34m(\u001b[0m\u001b[0mresult_t\u001b[0m\u001b[0;34m)\u001b[0m\u001b[0;34m,\u001b[0m \u001b[0mcopy\u001b[0m\u001b[0;34m=\u001b[0m\u001b[0;32mFalse\u001b[0m\u001b[0;34m)\u001b[0m\u001b[0;34m\u001b[0m\u001b[0;34m\u001b[0m\u001b[0m\n",
      "\u001b[0;32m/opt/anaconda3/lib/python3.7/site-packages/numpy/linalg/linalg.py\u001b[0m in \u001b[0;36m_raise_linalgerror_svd_nonconvergence\u001b[0;34m(err, flag)\u001b[0m\n\u001b[1;32m    104\u001b[0m \u001b[0;34m\u001b[0m\u001b[0m\n\u001b[1;32m    105\u001b[0m \u001b[0;32mdef\u001b[0m \u001b[0m_raise_linalgerror_svd_nonconvergence\u001b[0m\u001b[0;34m(\u001b[0m\u001b[0merr\u001b[0m\u001b[0;34m,\u001b[0m \u001b[0mflag\u001b[0m\u001b[0;34m)\u001b[0m\u001b[0;34m:\u001b[0m\u001b[0;34m\u001b[0m\u001b[0;34m\u001b[0m\u001b[0m\n\u001b[0;32m--> 106\u001b[0;31m     \u001b[0;32mraise\u001b[0m \u001b[0mLinAlgError\u001b[0m\u001b[0;34m(\u001b[0m\u001b[0;34m\"SVD did not converge\"\u001b[0m\u001b[0;34m)\u001b[0m\u001b[0;34m\u001b[0m\u001b[0;34m\u001b[0m\u001b[0m\n\u001b[0m\u001b[1;32m    107\u001b[0m \u001b[0;34m\u001b[0m\u001b[0m\n\u001b[1;32m    108\u001b[0m \u001b[0;32mdef\u001b[0m \u001b[0m_raise_linalgerror_lstsq\u001b[0m\u001b[0;34m(\u001b[0m\u001b[0merr\u001b[0m\u001b[0;34m,\u001b[0m \u001b[0mflag\u001b[0m\u001b[0;34m)\u001b[0m\u001b[0;34m:\u001b[0m\u001b[0;34m\u001b[0m\u001b[0;34m\u001b[0m\u001b[0m\n",
      "\u001b[0;31mLinAlgError\u001b[0m: SVD did not converge"
     ]
    }
   ],
   "source": [
    "m = 20\n",
    "n = 15\n",
    "rank = 10\n",
    "A = GetKRank(m,n,rank,-1,1,np.random.uniform)\n",
    "\n",
    "arrKR2 = []\n",
    "arrER2 = []\n",
    "arrTR2 = []\n",
    "\n",
    "arrKR3 = []\n",
    "arrER3 = []\n",
    "arrTR3 = []\n",
    "\n",
    "\n",
    "        \n",
    "            \n",
    "for k in range(1,n):\n",
    "    start = pd.Timestamp.now()\n",
    "    C, U, R ,Cs, Rs = Algorithm_2(A, k)\n",
    "    end = pd.Timestamp.now()\n",
    "    print(k)\n",
    "    arrKR2.append(k)\n",
    "    time = end - start\n",
    "    arrTR2.append(time.total_seconds())\n",
    "    arrER2.append(np.linalg.norm(A - C@U@R, 'fro'))\n",
    "    \n",
    "for k in range(1,n):\n",
    "    start = pd.Timestamp.now()\n",
    "    C, U, R ,Cs, Rs = Algorithm_3(A, k)\n",
    "    end = pd.Timestamp.now()\n",
    "    print(k)\n",
    "    arrKR3.append(k)\n",
    "    time = end - start\n",
    "    arrTR3.append(time.total_seconds())\n",
    "    arrER3.append(np.linalg.norm(A - C@U@R, 'fro'))"
   ]
  },
  {
   "cell_type": "code",
   "execution_count": null,
   "metadata": {},
   "outputs": [],
   "source": [
    "fig = plt.figure()\n",
    "plt.plot(arrKR2,arrER2, label = \"Algorithm 2\")\n",
    "plt.plot(arrKR3,arrER3, label = \"Algorithm 3\")\n",
    "plt.legend()\n",
    "\n",
    "plt.yscale('log')\n",
    "plt.ylabel(\"норма невязки\")\n",
    "plt.xlabel(\"порядок аппроксимации\")\n",
    "plt.grid()\n",
    "plt.show()"
   ]
  },
  {
   "cell_type": "code",
   "execution_count": null,
   "metadata": {},
   "outputs": [],
   "source": [
    "fig = plt.figure()\n",
    "plt.plot(arrKR2,arrTR2, label = \"Algorithm 2\")\n",
    "plt.plot(arrKR3,arrTR3, label = \"Algorithm 3\")\n",
    "plt.legend()\n",
    "\n",
    "plt.yscale('log')\n",
    "plt.ylabel(\"время работы\")\n",
    "plt.xlabel(\"порядок аппроксимации\")\n",
    "plt.grid()\n",
    "plt.show()"
   ]
  },
  {
   "cell_type": "code",
   "execution_count": null,
   "metadata": {},
   "outputs": [],
   "source": [
    "np.linalg.norm(A,'fro')"
   ]
  },
  {
   "cell_type": "code",
   "execution_count": null,
   "metadata": {},
   "outputs": [],
   "source": []
  },
  {
   "cell_type": "markdown",
   "metadata": {},
   "source": [
    "Sparse test"
   ]
  },
  {
   "cell_type": "code",
   "execution_count": null,
   "metadata": {},
   "outputs": [],
   "source": [
    "m = 20\n",
    "n = 15\n",
    "dens = 0.2\n",
    "\n",
    "A = GetSparse(m,n,dens,-1,1,np.random.uniform)\n",
    "\n",
    "arrKS2 = []\n",
    "arrES2 = []\n",
    "arrTS2 = []\n",
    "\n",
    "arrKS3 = []\n",
    "arrES3 = []\n",
    "arrTS3 = []\n",
    "\n",
    "\n",
    "        \n",
    "            \n",
    "for k in range(1,n):\n",
    "    start = pd.Timestamp.now()\n",
    "    C, U, R ,Cs, Rs = Algorithm_2(A, k)\n",
    "    end = pd.Timestamp.now()\n",
    "    print(k)\n",
    "    arrKS2.append(k)\n",
    "    time = end - start\n",
    "    arrTS2.append(time.total_seconds())\n",
    "    arrES2.append(np.linalg.norm(A - C@U@R, 'fro'))\n",
    "    \n",
    "for k in range(1,n):\n",
    "    start = pd.Timestamp.now()\n",
    "    C, U, R ,Cs, Rs = Algorithm_3(A, k)\n",
    "    end = pd.Timestamp.now()\n",
    "    print(k)\n",
    "    arrKS3.append(k)\n",
    "    time = end - start\n",
    "    arrTS3.append(time.total_seconds())\n",
    "    arrES3.append(np.linalg.norm(A - C@U@R, 'fro'))"
   ]
  },
  {
   "cell_type": "code",
   "execution_count": null,
   "metadata": {},
   "outputs": [],
   "source": [
    "fig = plt.figure()\n",
    "plt.plot(arrKS2,arrES2, label = \"Algorithm 2\")\n",
    "plt.plot(arrKS3,arrES3, label = \"Algorithm 3\")\n",
    "plt.legend()\n",
    "\n",
    "plt.yscale('log')\n",
    "plt.ylabel(\"норма невязки\")\n",
    "plt.xlabel(\"порядок аппроксимации\")\n",
    "plt.grid()\n",
    "plt.show()"
   ]
  },
  {
   "cell_type": "code",
   "execution_count": null,
   "metadata": {},
   "outputs": [],
   "source": [
    "fig = plt.figure()\n",
    "plt.plot(arrK2,arrT2, label = \"Algorithm 2\")\n",
    "plt.plot(arrK3,arrT3, label = \"Algorithm 3\")\n",
    "plt.legend()\n",
    "\n",
    "plt.yscale('log')\n",
    "plt.ylabel(\"время работы\")\n",
    "plt.xlabel(\"порядок аппроксимации\")\n",
    "plt.grid()\n",
    "plt.show()"
   ]
  },
  {
   "cell_type": "markdown",
   "metadata": {},
   "source": [
    "Dim Test"
   ]
  },
  {
   "cell_type": "code",
   "execution_count": null,
   "metadata": {},
   "outputs": [],
   "source": [
    "np.linalg.norm(A,'fro')"
   ]
  },
  {
   "cell_type": "code",
   "execution_count": null,
   "metadata": {},
   "outputs": [],
   "source": [
    "A"
   ]
  },
  {
   "cell_type": "code",
   "execution_count": null,
   "metadata": {},
   "outputs": [],
   "source": []
  }
 ],
 "metadata": {
  "kernelspec": {
   "display_name": "Python 3",
   "language": "python",
   "name": "python3"
  },
  "language_info": {
   "codemirror_mode": {
    "name": "ipython",
    "version": 3
   },
   "file_extension": ".py",
   "mimetype": "text/x-python",
   "name": "python",
   "nbconvert_exporter": "python",
   "pygments_lexer": "ipython3",
   "version": "3.7.6"
  }
 },
 "nbformat": 4,
 "nbformat_minor": 4
}
