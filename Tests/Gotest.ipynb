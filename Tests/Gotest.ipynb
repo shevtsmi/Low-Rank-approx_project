{
 "cells": [
  {
   "cell_type": "code",
   "execution_count": 1,
   "metadata": {},
   "outputs": [],
   "source": [
    "import numpy as np\n",
    "import math\n",
    "import os,sys,inspect\n",
    "import random\n",
    "import matplotlib.pyplot as plt\n",
    "import pandas as pd\n",
    "\n",
    "currentdir = os.path.dirname(os.path.abspath(inspect.getfile(inspect.currentframe())))\n",
    "parentdir = os.path.dirname(currentdir)\n",
    "sys.path.insert(0,parentdir) \n",
    "\n",
    "from Algorithm_2 import Algorithm_2, GetCoFromEigen\n",
    "from Algorithm_3 import Algorithm_3\n",
    "from func.Select_Index import Select_Columns, Select_Rows, Select_Ind\n",
    "from func.Summation_Alg import GetCoFromEigen\n",
    "\n",
    "import itertools \n",
    "from itertools import combinations, chain \n",
    "\n",
    "def findsubsets(r, n): \n",
    "    s = range(0, n)\n",
    "    return list(itertools.combinations(s, r)) \n",
    "\n",
    "def Check_Best_CUR(A, k):\n",
    "    \n",
    "    ans = math.inf\n",
    "    columns = []\n",
    "    rows = []\n",
    "    \n",
    "    m = A.shape[0]\n",
    "    n = A.shape[1]\n",
    "    \n",
    "    Cols = findsubsets(k, n)\n",
    "    Rows = findsubsets(k, m)\n",
    "    \n",
    "    for col__ in Cols:\n",
    "        for row__ in Rows:\n",
    "            \n",
    "            col = list(col__)\n",
    "            row = list(row__)\n",
    "            \n",
    "            C  = Select_Columns(A, col)\n",
    "            R  = Select_Rows(A, row)\n",
    "            U = np.linalg.pinv(C) @ A @ np.linalg.pinv(R)\n",
    "            \n",
    "            norm = np.linalg.norm(A - C @ U @ R,'fro')\n",
    "            if(norm < ans):\n",
    "                ans = norm\n",
    "                columns = col\n",
    "                rows = row\n",
    "            \n",
    "    return ans, columns, rows"
   ]
  },
  {
   "cell_type": "code",
   "execution_count": 2,
   "metadata": {},
   "outputs": [],
   "source": [
    "def GetSparse(m, n, dens, a, b, distr):\n",
    "    A = np.zeros((m,n))\n",
    "    for i in range(m):\n",
    "        for j in range(n):\n",
    "            if random.random() < dens:\n",
    "                A[i][j] = distr(a, b)\n",
    "    return A\n",
    "\n",
    "\n",
    "def GetKRank(m, n, k, a, b, distr):\n",
    "    Z = np.zeros((m,n))\n",
    "    for i in range(k):\n",
    "        Z[i][i] = distr(a, b)\n",
    "    U = np.random.uniform(a,b, (m,m))\n",
    "    U = U @ U.T\n",
    "    V = np.random.uniform(a,b, (n,n))\n",
    "    V = V @ V.T\n",
    "    return U @ Z @ V"
   ]
  },
  {
   "cell_type": "code",
   "execution_count": 3,
   "metadata": {},
   "outputs": [],
   "source": [
    "def GetHilbertTest(m,n, k_start,k_border):\n",
    "    A = np.zeros((m,n))\n",
    "\n",
    "    arrK2 = []\n",
    "    arrE2 = []\n",
    "    arrT2 = []\n",
    "\n",
    "    arrK3 = []\n",
    "    arrE3 = []\n",
    "    arrT3 = []\n",
    "\n",
    "    for i in range(m):\n",
    "        for j in range(n):\n",
    "            A[i][j] = 1/(i+j+1)\n",
    "        \n",
    "        \n",
    "    for k in range(k_start,k_border+1):\n",
    "        start = pd.Timestamp.now()\n",
    "        C, U, R ,Cs, Rs = Algorithm_2(A, k)\n",
    "        end = pd.Timestamp.now()\n",
    "        print(k)\n",
    "        arrK2.append(k)\n",
    "        time = end - start\n",
    "        arrT2.append(time.total_seconds())\n",
    "        arrE2.append(np.linalg.norm(A - C@U@R, 'fro'))\n",
    "    \n",
    "    for k in range(k_start,k_border+1):\n",
    "        start = pd.Timestamp.now()\n",
    "        C, U, R ,Cs, Rs = Algorithm_3(A, k)\n",
    "        end = pd.Timestamp.now()\n",
    "        #print(k)\n",
    "        arrK3.append(k)\n",
    "        time = end - start\n",
    "        arrT3.append(time.total_seconds())\n",
    "        arrE3.append(np.linalg.norm(A - C@U@R, 'fro'))\n",
    "    return arrK2, arrE2, arrT2, arrK3, arrE3, arrT3\n",
    "\n",
    "def GetRankTest(m,n,rank, k_start, k_border):\n",
    "    A = GetKRank(m,n,rank,-1,1,np.random.uniform)\n",
    "\n",
    "    arrKR2 = []\n",
    "    arrER2 = []\n",
    "    arrTR2 = []\n",
    "\n",
    "    arrKR3 = []\n",
    "    arrER3 = []\n",
    "    arrTR3 = []\n",
    "\n",
    "\n",
    "        \n",
    "            \n",
    "    for k in range(k_start,k_border+1):\n",
    "        start = pd.Timestamp.now()\n",
    "        C, U, R ,Cs, Rs = Algorithm_2(A, k)\n",
    "        end = pd.Timestamp.now()\n",
    "        print(k)\n",
    "        arrKR2.append(k)\n",
    "        time = end - start\n",
    "        arrER2.append(np.linalg.norm(A - C@U@R, 'fro'))\n",
    "        arrTR2.append(time.total_seconds())\n",
    "    for k in range(k_start,k_border+1):\n",
    "        start = pd.Timestamp.now()\n",
    "        C, U, R ,Cs, Rs = Algorithm_3(A, k)\n",
    "        end = pd.Timestamp.now()\n",
    "        print(k)\n",
    "        arrKR3.append(k)\n",
    "        time = end - start\n",
    "        arrTR3.append(time.total_seconds())\n",
    "        arrER3.append(np.linalg.norm(A - C@U@R, 'fro'))\n",
    "    return arrKR2, arrER2, arrTR2, arrKR3, arrER3, arrTR3\n",
    "\n",
    "def GetSparseTest(m,n,dens,k_start,k_border):\n",
    "    A = GetSparse(m,n,dens,-1,1,np.random.uniform)\n",
    "\n",
    "    arrKS2 = []\n",
    "    arrES2 = []\n",
    "    arrTS2 = []\n",
    "\n",
    "    arrKS3 = []\n",
    "    arrES3 = []\n",
    "    arrTS3 = []\n",
    "\n",
    "\n",
    "        \n",
    "            \n",
    "    for k in range(k_start,k_border+1):\n",
    "        start = pd.Timestamp.now()\n",
    "        C, U, R ,Cs, Rs = Algorithm_2(A, k)\n",
    "        end = pd.Timestamp.now()\n",
    "        print(k)\n",
    "        arrKS2.append(k)\n",
    "        time = end - start\n",
    "        arrTS2.append(time.total_seconds())\n",
    "        arrES2.append(np.linalg.norm(A - C@U@R, 'fro'))\n",
    "    \n",
    "    for k in range(k_start,k_border+1):\n",
    "        start = pd.Timestamp.now()\n",
    "        C, U, R ,Cs, Rs = Algorithm_3(A, k)\n",
    "        end = pd.Timestamp.now()\n",
    "        #print(k)\n",
    "        arrKS3.append(k)\n",
    "        time = end - start\n",
    "        arrTS3.append(time.total_seconds())\n",
    "        arrES3.append(np.linalg.norm(A - C@U@R, 'fro'))\n",
    "    return KS2,ES2,ET2, KS3, ES3, TS3"
   ]
  },
  {
   "cell_type": "markdown",
   "metadata": {},
   "source": [
    "Hilbert matrix"
   ]
  },
  {
   "cell_type": "code",
   "execution_count": 4,
   "metadata": {},
   "outputs": [
    {
     "name": "stdout",
     "output_type": "stream",
     "text": [
      "1\n",
      "2\n",
      "3\n",
      "4\n",
      "5\n",
      "6\n",
      "7\n",
      "8\n",
      "9\n",
      "10\n"
     ]
    },
    {
     "name": "stderr",
     "output_type": "stream",
     "text": [
      "/Users/vladimirsevcov/Downloads/Low-Rank-approx_project-master/Algorithm_2.py:56: RuntimeWarning: overflow encountered in cdouble_scalars\n",
      "  ratio = up/down\n",
      "/Users/vladimirsevcov/Downloads/Low-Rank-approx_project-master/Algorithm_2.py:56: RuntimeWarning: invalid value encountered in cdouble_scalars\n",
      "  ratio = up/down\n"
     ]
    },
    {
     "name": "stdout",
     "output_type": "stream",
     "text": [
      "11\n",
      "12\n",
      "13\n",
      "14\n",
      "15\n",
      "16\n",
      "17\n",
      "18\n",
      "19\n",
      "1\n"
     ]
    },
    {
     "name": "stderr",
     "output_type": "stream",
     "text": [
      "/Users/vladimirsevcov/Downloads/Low-Rank-approx_project-master/func/Summation_Alg.py:18: RuntimeWarning: overflow encountered in multiply\n",
      "  S[i, j] = S[i-1, j] + eigen[i]*S[i-1,j-1]\n",
      "/Users/vladimirsevcov/Downloads/Low-Rank-approx_project-master/func/Summation_Alg.py:18: RuntimeWarning: invalid value encountered in multiply\n",
      "  S[i, j] = S[i-1, j] + eigen[i]*S[i-1,j-1]\n"
     ]
    },
    {
     "name": "stdout",
     "output_type": "stream",
     "text": [
      "2\n",
      "3\n"
     ]
    },
    {
     "name": "stderr",
     "output_type": "stream",
     "text": [
      "/Users/vladimirsevcov/Downloads/Low-Rank-approx_project-master/func/Summation_Alg.py:18: RuntimeWarning: overflow encountered in cdouble_scalars\n",
      "  S[i, j] = S[i-1, j] + eigen[i]*S[i-1,j-1]\n"
     ]
    },
    {
     "name": "stdout",
     "output_type": "stream",
     "text": [
      "4\n",
      "5\n",
      "6\n"
     ]
    },
    {
     "name": "stderr",
     "output_type": "stream",
     "text": [
      "/Users/vladimirsevcov/Downloads/Low-Rank-approx_project-master/Algorithm_3.py:79: RuntimeWarning: invalid value encountered in cdouble_scalars\n",
      "  r = up/down\n"
     ]
    },
    {
     "name": "stdout",
     "output_type": "stream",
     "text": [
      "7\n"
     ]
    },
    {
     "name": "stderr",
     "output_type": "stream",
     "text": [
      "/Users/vladimirsevcov/Downloads/Low-Rank-approx_project-master/Algorithm_3.py:79: RuntimeWarning: overflow encountered in cdouble_scalars\n",
      "  r = up/down\n"
     ]
    },
    {
     "name": "stdout",
     "output_type": "stream",
     "text": [
      "8\n",
      "9\n",
      "10\n",
      "11\n",
      "12\n",
      "13\n",
      "14\n",
      "15\n",
      "16\n",
      "17\n",
      "18\n",
      "19\n"
     ]
    }
   ],
   "source": [
    "m = 30\n",
    "n = 20\n",
    "\n",
    "A = np.zeros((m,n))\n",
    "\n",
    "arrK2 = []\n",
    "arrE2 = []\n",
    "arrT2 = []\n",
    "\n",
    "arrK3 = []\n",
    "arrE3 = []\n",
    "arrT3 = []\n",
    "\n",
    "for i in range(m):\n",
    "    for j in range(n):\n",
    "        A[i][j] = 1/(i+j+1)\n",
    "        \n",
    "        \n",
    "for k in range(1,20):\n",
    "    start = pd.Timestamp.now()\n",
    "    C, U, R ,Cs, Rs = Algorithm_2(A, k)\n",
    "    end = pd.Timestamp.now()\n",
    "    print(k)\n",
    "    arrK2.append(k)\n",
    "    time = end - start\n",
    "    arrT2.append(time.total_seconds())\n",
    "    arrE2.append(np.linalg.norm(A - C@U@R, 'fro'))\n",
    "    \n",
    "for k in range(1 , 20):\n",
    "    start = pd.Timestamp.now()\n",
    "    C, U, R ,Cs, Rs = Algorithm_3(A, k)\n",
    "    end = pd.Timestamp.now()\n",
    "    print(k)\n",
    "    arrK3.append(k)\n",
    "    time = end - start\n",
    "    arrT3.append(time.total_seconds())\n",
    "    arrE3.append(np.linalg.norm(A - C@U@R, 'fro'))\n",
    "\n",
    "\n"
   ]
  },
  {
   "cell_type": "code",
   "execution_count": 5,
   "metadata": {},
   "outputs": [
    {
     "data": {
      "image/png": "[encoded data removed]",
      "text/plain": [
       "<Figure size 432x288 with 1 Axes>"
      ]
     },
     "metadata": {
      "needs_background": "light"
     },
     "output_type": "display_data"
    }
   ],
   "source": [
    "fig = plt.figure()\n",
    "plt.plot(arrK2,arrE2, label = \"Algorithm 2\")\n",
    "plt.plot(arrK3,arrE3, label = \"Algorithm 3\")\n",
    "plt.legend()\n",
    "\n",
    "plt.yscale('log')\n",
    "plt.ylabel(\"норма невязки\")\n",
    "plt.xlabel(\"порядок аппроксимации\")\n",
    "plt.grid()\n",
    "plt.show()"
   ]
  },
  {
   "cell_type": "code",
   "execution_count": 6,
   "metadata": {},
   "outputs": [
    {
     "data": {
      "image/png": "[encoded data removed]",
      "text/plain": [
       "<Figure size 432x288 with 1 Axes>"
      ]
     },
     "metadata": {
      "needs_background": "light"
     },
     "output_type": "display_data"
    }
   ],
   "source": [
    "fig = plt.figure()\n",
    "plt.plot(arrK2,arrT2, label = \"Algorithm 2\")\n",
    "plt.plot(arrK3,arrT3, label = \"Algorithm 3\")\n",
    "plt.legend()\n",
    "\n",
    "plt.yscale('log')\n",
    "plt.ylabel(\"время работы\")\n",
    "plt.xlabel(\"порядок аппроксимации\")\n",
    "plt.grid()\n",
    "plt.show()"
   ]
  },
  {
   "cell_type": "markdown",
   "metadata": {},
   "source": [
    "Rank test"
   ]
  },
  {
   "cell_type": "code",
   "execution_count": 7,
   "metadata": {},
   "outputs": [
    {
     "name": "stdout",
     "output_type": "stream",
     "text": [
      "5\n"
     ]
    },
    {
     "name": "stderr",
     "output_type": "stream",
     "text": [
      "/Users/vladimirsevcov/Downloads/Low-Rank-approx_project-master/Algorithm_2.py:56: RuntimeWarning: overflow encountered in cdouble_scalars\n",
      "  ratio = up/down\n",
      "/Users/vladimirsevcov/Downloads/Low-Rank-approx_project-master/Algorithm_2.py:56: RuntimeWarning: invalid value encountered in cdouble_scalars\n",
      "  ratio = up/down\n"
     ]
    },
    {
     "name": "stdout",
     "output_type": "stream",
     "text": [
      "6\n",
      "7\n",
      "8\n",
      "9\n",
      "10\n",
      "11\n",
      "12\n",
      "13\n",
      "14\n",
      "15\n"
     ]
    },
    {
     "name": "stderr",
     "output_type": "stream",
     "text": [
      "/Users/vladimirsevcov/Downloads/Low-Rank-approx_project-master/func/Summation_Alg.py:18: RuntimeWarning: overflow encountered in multiply\n",
      "  S[i, j] = S[i-1, j] + eigen[i]*S[i-1,j-1]\n",
      "/Users/vladimirsevcov/Downloads/Low-Rank-approx_project-master/func/Summation_Alg.py:18: RuntimeWarning: invalid value encountered in multiply\n",
      "  S[i, j] = S[i-1, j] + eigen[i]*S[i-1,j-1]\n",
      "/Users/vladimirsevcov/Downloads/Low-Rank-approx_project-master/func/Summation_Alg.py:18: RuntimeWarning: overflow encountered in cdouble_scalars\n",
      "  S[i, j] = S[i-1, j] + eigen[i]*S[i-1,j-1]\n"
     ]
    },
    {
     "name": "stdout",
     "output_type": "stream",
     "text": [
      "5\n",
      "6\n",
      "7\n",
      "8\n",
      "9\n",
      "10\n",
      "11\n"
     ]
    },
    {
     "name": "stderr",
     "output_type": "stream",
     "text": [
      "/Users/vladimirsevcov/Downloads/Low-Rank-approx_project-master/Algorithm_3.py:79: RuntimeWarning: overflow encountered in cdouble_scalars\n",
      "  r = up/down\n",
      "/Users/vladimirsevcov/Downloads/Low-Rank-approx_project-master/Algorithm_3.py:79: RuntimeWarning: invalid value encountered in cdouble_scalars\n",
      "  r = up/down\n"
     ]
    },
    {
     "name": "stdout",
     "output_type": "stream",
     "text": [
      "12\n",
      "13\n",
      "14\n",
      "15\n",
      "5\n",
      "6\n",
      "7\n",
      "8\n",
      "9\n",
      "10\n",
      "11\n",
      "12\n",
      "13\n",
      "14\n",
      "15\n",
      "5\n",
      "6\n",
      "7\n",
      "8\n",
      "9\n",
      "10\n",
      "11\n",
      "12\n",
      "13\n",
      "14\n",
      "15\n"
     ]
    }
   ],
   "source": [
    "m = 30\n",
    "n = 20\n",
    "rank = 10\n",
    "A = GetKRank(m,n,rank,-1,1,np.random.uniform)\n",
    "\n",
    "arrKR21 = []\n",
    "arrER21 = []\n",
    "arrTR21 = []\n",
    "\n",
    "arrKR31 = []\n",
    "arrER31 = []\n",
    "arrTR31 = []\n",
    "\n",
    "\n",
    "        \n",
    "            \n",
    "for k in range(5,16):\n",
    "    start = pd.Timestamp.now()\n",
    "    C, U, R ,Cs, Rs = Algorithm_2(A, k)\n",
    "    end = pd.Timestamp.now()\n",
    "    print(k)\n",
    "    arrKR21.append(k)\n",
    "    time = end - start\n",
    "    arrTR21.append(time.total_seconds())\n",
    "    arrER21.append(np.linalg.norm(A - C@U@R, 'fro'))\n",
    "    \n",
    "for k in range(5,16):\n",
    "    start = pd.Timestamp.now()\n",
    "    C, U, R ,Cs, Rs = Algorithm_3(A, k)\n",
    "    end = pd.Timestamp.now()\n",
    "    print(k)\n",
    "    arrKR31.append(k)\n",
    "    time = end - start\n",
    "    arrTR31.append(time.total_seconds())\n",
    "    arrER31.append(np.linalg.norm(A - C@U@R, 'fro'))\n",
    "rank = 13\n",
    "A = GetKRank(m,n,rank,-1,1,np.random.uniform)\n",
    "\n",
    "arrKR22 = []\n",
    "arrER22 = []\n",
    "arrTR22 = []\n",
    "\n",
    "arrKR32 = []\n",
    "arrER32 = []\n",
    "arrTR32 = []\n",
    "\n",
    "\n",
    "        \n",
    "            \n",
    "for k in range(5,16):\n",
    "    start = pd.Timestamp.now()\n",
    "    C, U, R ,Cs, Rs = Algorithm_2(A, k)\n",
    "    end = pd.Timestamp.now()\n",
    "    print(k)\n",
    "    arrKR22.append(k)\n",
    "    time = end - start\n",
    "    arrTR22.append(time.total_seconds())\n",
    "    arrER22.append(np.linalg.norm(A - C@U@R, 'fro'))\n",
    "    \n",
    "for k in range(5,16):\n",
    "    start = pd.Timestamp.now()\n",
    "    C, U, R ,Cs, Rs = Algorithm_3(A, k)\n",
    "    end = pd.Timestamp.now()\n",
    "    print(k)\n",
    "    arrKR32.append(k)\n",
    "    time = end - start\n",
    "    arrTR32.append(time.total_seconds())\n",
    "    arrER32.append(np.linalg.norm(A - C@U@R, 'fro'))"
   ]
  },
  {
   "cell_type": "code",
   "execution_count": 8,
   "metadata": {},
   "outputs": [
    {
     "data": {
      "image/png": "[encoded data removed]",
      "text/plain": [
       "<Figure size 432x288 with 1 Axes>"
      ]
     },
     "metadata": {
      "needs_background": "light"
     },
     "output_type": "display_data"
    }
   ],
   "source": [
    "fig = plt.figure()\n",
    "plt.plot(arrKR21,arrER21, label = \"Alg. 2, rank 10\")\n",
    "plt.plot(arrKR22,arrER22, label = \"Alg. 2 rank 13\")\n",
    "plt.legend()\n",
    "\n",
    "plt.yscale('log')\n",
    "plt.ylabel(\"норма невязки\")\n",
    "plt.xlabel(\"порядок аппроксимации\")\n",
    "plt.grid()\n",
    "plt.show()"
   ]
  },
  {
   "cell_type": "code",
   "execution_count": 16,
   "metadata": {},
   "outputs": [
    {
     "data": {
      "image/png": "[encoded data removed]",
      "text/plain": [
       "<Figure size 432x288 with 1 Axes>"
      ]
     },
     "metadata": {
      "needs_background": "light"
     },
     "output_type": "display_data"
    }
   ],
   "source": [
    "fig = plt.figure()\n",
    "plt.plot(arrKR31,arrER31, label = \"Alg. 3 rank 10\")\n",
    "plt.plot(arrKR32,arrER32, label = \"Alg. 3 rank 13\")\n",
    "plt.legend()\n",
    "\n",
    "plt.yscale('log')\n",
    "plt.ylabel(\"время работы\")\n",
    "plt.xlabel(\"порядок аппроксимации\")\n",
    "plt.grid()\n",
    "plt.show()"
   ]
  },
  {
   "cell_type": "code",
   "execution_count": 10,
   "metadata": {},
   "outputs": [
    {
     "data": {
      "text/plain": [
       "299.37785588787443"
      ]
     },
     "execution_count": 10,
     "metadata": {},
     "output_type": "execute_result"
    }
   ],
   "source": [
    "np.linalg.norm(A,'fro')"
   ]
  },
  {
   "cell_type": "code",
   "execution_count": null,
   "metadata": {},
   "outputs": [],
   "source": []
  },
  {
   "cell_type": "markdown",
   "metadata": {},
   "source": [
    "Sparse test"
   ]
  },
  {
   "cell_type": "code",
   "execution_count": 13,
   "metadata": {},
   "outputs": [
    {
     "name": "stdout",
     "output_type": "stream",
     "text": [
      "10\n",
      "11\n"
     ]
    },
    {
     "name": "stderr",
     "output_type": "stream",
     "text": [
      "/Users/vladimirsevcov/Downloads/Low-Rank-approx_project-master/Algorithm_2.py:56: RuntimeWarning: overflow encountered in cdouble_scalars\n",
      "  ratio = up/down\n",
      "/Users/vladimirsevcov/Downloads/Low-Rank-approx_project-master/Algorithm_2.py:56: RuntimeWarning: invalid value encountered in cdouble_scalars\n",
      "  ratio = up/down\n"
     ]
    },
    {
     "name": "stdout",
     "output_type": "stream",
     "text": [
      "12\n",
      "13\n",
      "14\n",
      "15\n",
      "16\n",
      "17\n",
      "18\n"
     ]
    },
    {
     "name": "stderr",
     "output_type": "stream",
     "text": [
      "/Users/vladimirsevcov/Downloads/Low-Rank-approx_project-master/func/Summation_Alg.py:18: RuntimeWarning: overflow encountered in multiply\n",
      "  S[i, j] = S[i-1, j] + eigen[i]*S[i-1,j-1]\n",
      "/Users/vladimirsevcov/Downloads/Low-Rank-approx_project-master/func/Summation_Alg.py:18: RuntimeWarning: invalid value encountered in multiply\n",
      "  S[i, j] = S[i-1, j] + eigen[i]*S[i-1,j-1]\n",
      "/Users/vladimirsevcov/Downloads/Low-Rank-approx_project-master/func/Summation_Alg.py:18: RuntimeWarning: overflow encountered in cdouble_scalars\n",
      "  S[i, j] = S[i-1, j] + eigen[i]*S[i-1,j-1]\n",
      "/Users/vladimirsevcov/Downloads/Low-Rank-approx_project-master/Algorithm_3.py:79: RuntimeWarning: invalid value encountered in cdouble_scalars\n",
      "  r = up/down\n"
     ]
    },
    {
     "name": "stdout",
     "output_type": "stream",
     "text": [
      "10\n",
      "11\n",
      "12\n"
     ]
    },
    {
     "name": "stderr",
     "output_type": "stream",
     "text": [
      "/Users/vladimirsevcov/Downloads/Low-Rank-approx_project-master/Algorithm_3.py:79: RuntimeWarning: overflow encountered in cdouble_scalars\n",
      "  r = up/down\n"
     ]
    },
    {
     "name": "stdout",
     "output_type": "stream",
     "text": [
      "13\n",
      "14\n",
      "15\n",
      "16\n",
      "17\n",
      "18\n",
      "10\n",
      "11\n",
      "12\n",
      "13\n",
      "14\n",
      "15\n",
      "16\n",
      "17\n",
      "18\n",
      "10\n",
      "11\n",
      "12\n",
      "13\n",
      "14\n",
      "15\n",
      "16\n",
      "17\n",
      "18\n"
     ]
    }
   ],
   "source": [
    "m = 30\n",
    "n = 20\n",
    "dens = 0.2\n",
    "\n",
    "A = GetSparse(m,n,dens,-1,1,np.random.uniform)\n",
    "\n",
    "arrKS21 = []\n",
    "arrES21 = []\n",
    "arrTS21 = []\n",
    "\n",
    "arrKS31 = []\n",
    "arrES31 = []\n",
    "arrTS31 = []\n",
    "\n",
    "\n",
    "        \n",
    "            \n",
    "for k in range(10,19):\n",
    "    start = pd.Timestamp.now()\n",
    "    C, U, R ,Cs, Rs = Algorithm_2(A, k)\n",
    "    end = pd.Timestamp.now()\n",
    "    print(k)\n",
    "    arrKS21.append(k)\n",
    "    time = end - start\n",
    "    arrTS21.append(time.total_seconds())\n",
    "    arrES21.append(np.linalg.norm(A - C@U@R, 'fro'))\n",
    "    \n",
    "for k in range(10,19):\n",
    "    start = pd.Timestamp.now()\n",
    "    C, U, R ,Cs, Rs = Algorithm_3(A, k)\n",
    "    end = pd.Timestamp.now()\n",
    "    print(k)\n",
    "    arrKS31.append(k)\n",
    "    time = end - start\n",
    "    arrTS31.append(time.total_seconds())\n",
    "    arrES31.append(np.linalg.norm(A - C@U@R, 'fro'))\n",
    "dens = 0.05\n",
    "\n",
    "A = GetSparse(m,n,dens,-1,1,np.random.uniform)\n",
    "\n",
    "arrKS22 = []\n",
    "arrES22 = []\n",
    "arrTS22 = []\n",
    "\n",
    "arrKS32 = []\n",
    "arrES32 = []\n",
    "arrTS32 = []\n",
    "\n",
    "\n",
    "        \n",
    "            \n",
    "for k in range(10,19):\n",
    "    start = pd.Timestamp.now()\n",
    "    C, U, R ,Cs, Rs = Algorithm_2(A, k)\n",
    "    end = pd.Timestamp.now()\n",
    "    print(k)\n",
    "    arrKS22.append(k)\n",
    "    time = end - start\n",
    "    arrTS22.append(time.total_seconds())\n",
    "    arrES22.append(np.linalg.norm(A - C@U@R, 'fro'))\n",
    "    \n",
    "for k in range(10,19):\n",
    "    start = pd.Timestamp.now()\n",
    "    C, U, R ,Cs, Rs = Algorithm_3(A, k)\n",
    "    end = pd.Timestamp.now()\n",
    "    print(k)\n",
    "    arrKS32.append(k)\n",
    "    time = end - start\n",
    "    arrTS32.append(time.total_seconds())\n",
    "    arrES32.append(np.linalg.norm(A - C@U@R, 'fro'))"
   ]
  },
  {
   "cell_type": "code",
   "execution_count": 14,
   "metadata": {},
   "outputs": [
    {
     "data": {
      "image/png": "[encoded data removed]",
      "text/plain": [
       "<Figure size 432x288 with 1 Axes>"
      ]
     },
     "metadata": {
      "needs_background": "light"
     },
     "output_type": "display_data"
    }
   ],
   "source": [
    "fig = plt.figure()\n",
    "plt.plot(arrKS21,arrES21, label = \"Alg. 2 density = 0.2\")\n",
    "plt.plot(arrKS22,arrES22, label = \"Alg. 2 density = 0.05\")\n",
    "plt.legend()\n",
    "\n",
    "plt.yscale('log')\n",
    "plt.ylabel(\"норма невязки\")\n",
    "plt.xlabel(\"порядок аппроксимации\")\n",
    "plt.grid()\n",
    "plt.show()"
   ]
  },
  {
   "cell_type": "code",
   "execution_count": 15,
   "metadata": {},
   "outputs": [
    {
     "data": {
      "image/png": "[encoded data removed]",
      "text/plain": [
       "<Figure size 432x288 with 1 Axes>"
      ]
     },
     "metadata": {
      "needs_background": "light"
     },
     "output_type": "display_data"
    }
   ],
   "source": [
    "fig = plt.figure()\n",
    "plt.plot(arrKS31,arrES31, label = \"Alg. 3 density = 0.2\")\n",
    "plt.plot(arrKS32,arrES32, label = \"Alg. 3 density = 0.05\")\n",
    "plt.legend()\n",
    "\n",
    "plt.yscale('log')\n",
    "plt.ylabel(\"норма невязки\")\n",
    "plt.xlabel(\"порядок аппроксимации\")\n",
    "plt.grid()\n",
    "plt.show()"
   ]
  },
  {
   "cell_type": "markdown",
   "metadata": {},
   "source": [
    "Dim Test"
   ]
  },
  {
   "cell_type": "code",
   "execution_count": 17,
   "metadata": {},
   "outputs": [
    {
     "data": {
      "text/plain": [
       "2.733234271641447"
      ]
     },
     "execution_count": 17,
     "metadata": {},
     "output_type": "execute_result"
    }
   ],
   "source": [
    "np.linalg.norm(A,'fro')"
   ]
  },
  {
   "cell_type": "code",
   "execution_count": null,
   "metadata": {},
   "outputs": [],
   "source": [
    "A"
   ]
  },
  {
   "cell_type": "code",
   "execution_count": null,
   "metadata": {},
   "outputs": [],
   "source": [
    "arrK210 = []\n",
    "arrE210 = []\n",
    "arrT210 = []\n",
    "\n",
    "arrK310 = []\n",
    "arrE310 = []\n",
    "arrT310 = []\n",
    "\n",
    "\n",
    "\n",
    "\n",
    "\n",
    "#arrK210, arrE210, arrT210, arrK310, arrE310, arrT310 = GetRankTest(50,60,30,20,40)\n",
    "\n",
    "\n",
    "\n",
    "fig = plt.figure()\n",
    "\n",
    "#plt.plot(arrK210,arrE210, label = \"Algorithm 2, rank = 30\")\n",
    "#plt.plot(arrK310,arrE310, label = \"Algorithm 3, rank = 30\")\n",
    "plt.legend()\n",
    "\n",
    "plt.yscale('log')\n",
    "plt.ylabel(\"норма невязки\")\n",
    "plt.xlabel(\"порядок аппроксимации\")\n",
    "plt.grid()\n",
    "#plt.show()"
   ]
  },
  {
   "cell_type": "code",
   "execution_count": null,
   "metadata": {},
   "outputs": [],
   "source": [
    "fig = plt.figure()\n",
    "#plt.plot(arrK210,arrT210, label = \"Algorithm 2, rank = 30\")\n",
    "#plt.plot(arrK310,arrT310, label = \"Algorithm 3, rank = 30\")\n",
    "plt.legend()\n",
    "\n",
    "plt.yscale('log')\n",
    "plt.ylabel(\"норма невязки\")\n",
    "plt.xlabel(\"порядок аппроксимации\")\n",
    "plt.grid()\n",
    "#plt.show()"
   ]
  },
  {
   "cell_type": "code",
   "execution_count": null,
   "metadata": {},
   "outputs": [],
   "source": []
  },
  {
   "cell_type": "code",
   "execution_count": null,
   "metadata": {},
   "outputs": [],
   "source": []
  }
 ],
 "metadata": {
  "kernelspec": {
   "display_name": "Python 3",
   "language": "python",
   "name": "python3"
  },
  "language_info": {
   "codemirror_mode": {
    "name": "ipython",
    "version": 3
   },
   "file_extension": ".py",
   "mimetype": "text/x-python",
   "name": "python",
   "nbconvert_exporter": "python",
   "pygments_lexer": "ipython3",
   "version": "3.7.6"
  }
 },
 "nbformat": 4,
 "nbformat_minor": 4
}
