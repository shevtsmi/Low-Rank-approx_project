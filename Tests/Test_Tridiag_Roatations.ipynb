{
 "cells": [
  {
   "cell_type": "code",
   "execution_count": 1,
   "metadata": {},
   "outputs": [],
   "source": [
    "import numpy as np\n",
    "import math\n",
    "#import os\n",
    "import pandas\n",
    "#os.getcwd()\n",
    "import os,sys,inspect\n",
    "\n",
    "\n",
    "currentdir = os.path.dirname(os.path.abspath(inspect.getfile(inspect.currentframe())))\n",
    "parentdir = os.path.dirname(currentdir)\n",
    "sys.path.insert(0,parentdir) \n",
    "\n",
    "#from func.Givens_Rotation import formrot, Givens_left, Givens_right\n",
    "from func.Tridiag_Rotations import Tridiagonal_chase"
   ]
  },
  {
   "cell_type": "code",
   "execution_count": 2,
   "metadata": {},
   "outputs": [],
   "source": [
    "A = 1.0 * np.array([\n",
    "    [1, 2, 3,  4,   5, 6,  19],\n",
    "    [0, 9, 13, 0,   0, 0,  0],\n",
    "    [0, 0, 8,  12,  0, 0,  0],\n",
    "    [0, 0, 0,   7, 11, 0,  0],\n",
    "    [0, 0, 0,   0,  6, 10, 0],\n",
    "    [0, 0, 0,   0,  0, 5,  66], \n",
    "    [0, 0, 0,   0,  0, 0,  73], \n",
    "    ])\n",
    "\n",
    "#A = np.zeros((7, 7)) + np.diag([1, -1, 1, 0, 0, 1, 0])\n",
    "\n",
    "# A = 1.0 * np.array([\n",
    "#     [1, 2, 3, 4, 5],\n",
    "#     [0, 9, 13, 0, 0],\n",
    "#     [0, 0, 8, 12, 0],\n",
    "#     [0, 0, 0, 7, 11],\n",
    "#     [0, 0, 0, 0, 6]\n",
    "\n",
    "#     ])"
   ]
  },
  {
   "cell_type": "code",
   "execution_count": 8,
   "metadata": {},
   "outputs": [
    {
     "name": "stdout",
     "output_type": "stream",
     "text": [
      "A\n",
      " [[ 1.00000000e+00  2.00000000e+00  2.11423745e+01  0.00000000e+00\n",
      "   0.00000000e+00 -0.00000000e+00  0.00000000e+00]\n",
      " [ 0.00000000e+00  9.00000000e+00  1.84463670e+00  1.25583330e+01\n",
      "   9.61883637e-33 -1.85956421e-01  2.80196479e+00]\n",
      " [ 0.00000000e+00  0.00000000e+00  8.96500529e+01 -9.37063777e+00\n",
      "   3.19735037e+01  1.69831671e+01 -1.44839340e+01]\n",
      " [ 0.00000000e+00  0.00000000e+00 -2.19561453e-16  7.78076622e+00\n",
      "  -9.07251972e+00  8.43208320e+00 -1.26169258e+00]\n",
      " [-0.00000000e+00 -0.00000000e+00  8.67274041e-16  6.94593478e-02\n",
      "   1.20674043e+01  6.75117690e+00  3.37116459e+00]\n",
      " [ 0.00000000e+00  0.00000000e+00 -1.13007163e-15  1.87565742e+00\n",
      "  -8.45640743e+00 -4.64755535e+00  7.75528508e+00]\n",
      " [ 0.00000000e+00  0.00000000e+00 -2.59621338e-16  1.33346737e-02\n",
      "   1.39994965e+00 -1.26798178e-01 -1.29600100e+00]]\n",
      "B = \n",
      "     0    1          2         3          4         5         6\n",
      "0  1.0  2.0  21.142375  0.000000   0.000000 -0.000000  0.000000\n",
      "1  0.0  9.0   1.844637  0.000000   0.000000  0.000000  0.000000\n",
      "2  0.0  0.0  89.650053 -9.370638   0.000000  0.000000  0.000000\n",
      "3  0.0  0.0   0.000000  7.780766  -9.072520  0.000000  0.000000\n",
      "4  0.0  0.0   0.000000  0.000000  12.067404  6.751177  0.000000\n",
      "5  0.0  0.0   0.000000  0.000000   0.000000 -4.647555  7.755285\n",
      "6  0.0  0.0   0.000000  0.000000   0.000000  0.000000 -1.296001\n",
      "\n",
      "\n",
      "\n",
      "||Giv - B|| =  42.97884436002411\n",
      "Видим, что матрица верхняя тридиагональная\n",
      "B = \n",
      "     0    1          2         3          4         5         6\n",
      "0  1.0  2.0  21.142375  0.000000   0.000000 -0.000000  0.000000\n",
      "1  0.0  9.0   1.844637  0.000000   0.000000  0.000000  0.000000\n",
      "2  0.0  0.0  89.650053 -9.370638   0.000000  0.000000  0.000000\n",
      "3  0.0  0.0   0.000000  7.780766  -9.072520  0.000000  0.000000\n",
      "4  0.0  0.0   0.000000  0.000000  12.067404  6.751177  0.000000\n",
      "5  0.0  0.0   0.000000  0.000000   0.000000 -4.647555  7.755285\n",
      "6  0.0  0.0   0.000000  0.000000   0.000000  0.000000 -1.296001\n",
      "\n",
      "\n",
      "\n"
     ]
    }
   ],
   "source": [
    "B, Giv = Tridiagonal_chase(A, full=True) \n",
    "\n",
    "print(\"A\\n\", A)\n",
    "\n",
    "\n",
    "#np.savetxt(\"array.txt\", np.matrix(Q.dot(A.dot(W))), fmt=\"%s\")\n",
    "\n",
    "# print(\"\\nGIV: \\n\")\n",
    "# print(pandas.DataFrame(Giv.apply(A)))\n",
    "df = pandas.DataFrame(B)\n",
    "print(\"B = \\n{}\\n\".format(df))\n",
    "print(\"\\n\")\n",
    "\n",
    "print(\"||Giv - B|| = \", np.linalg.norm(Giv.apply(A) - B))\n",
    "\n",
    "\n",
    "\n",
    "print(\"Видим, что матрица верхняя тридиагональная\")\n",
    "B = Tridiagonal_chase(A, full=False) \n",
    "\n",
    "df = pandas.DataFrame(B)\n",
    "print(\"B = \\n{}\\n\".format(df))\n",
    "print(\"\\n\")"
   ]
  },
  {
   "cell_type": "code",
   "execution_count": null,
   "metadata": {},
   "outputs": [],
   "source": []
  }
 ],
 "metadata": {
  "kernelspec": {
   "display_name": "Python 3",
   "language": "python",
   "name": "python3"
  },
  "language_info": {
   "codemirror_mode": {
    "name": "ipython",
    "version": 3
   },
   "file_extension": ".py",
   "mimetype": "text/x-python",
   "name": "python",
   "nbconvert_exporter": "python",
   "pygments_lexer": "ipython3",
   "version": "3.7.3"
  }
 },
 "nbformat": 4,
 "nbformat_minor": 4
}
