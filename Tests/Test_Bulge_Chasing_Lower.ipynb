{
 "cells": [
  {
   "cell_type": "code",
   "execution_count": 1,
   "metadata": {},
   "outputs": [],
   "source": [
    "import numpy as np\n",
    "import math\n",
    "import pandas\n",
    "import os,sys,inspect\n",
    "\n",
    "\n",
    "currentdir = os.path.dirname(os.path.abspath(inspect.getfile(inspect.currentframe())))\n",
    "parentdir = os.path.dirname(currentdir)\n",
    "sys.path.insert(0,parentdir) \n",
    "from func.Bulge_chasing_lower import Bulge_chasing_lower\n",
    "from func.Bulge_chasing_upper import Bulge_chasing_upper"
   ]
  },
  {
   "cell_type": "code",
   "execution_count": 2,
   "metadata": {},
   "outputs": [],
   "source": [
    "\n",
    "# Проверка:\n",
    "\n",
    "\n",
    "n = 7      # размерность задачи\n",
    "\n",
    "s = np.zeros(n)   # вектор [0 ... (n - 1)], задающий диагональную матрицу Sigma\n",
    "\n",
    "x = np.zeros(n)   # вектор, относительно которого происходит нормировка\n",
    "\n",
    "# Для примера положим:\n",
    "for i in range(n):\n",
    "    s[i] = i + 1.0\n",
    "    x[i] = i + 1\n",
    "\n",
    "Sigma = np.diag(s)"
   ]
  },
  {
   "cell_type": "code",
   "execution_count": 3,
   "metadata": {},
   "outputs": [
    {
     "name": "stdout",
     "output_type": "stream",
     "text": [
      "              0             1             2             3             4  \\\n",
      "0  4.472136e+00  1.387779e-16  2.775558e-17  4.718448e-16  1.110223e-16   \n",
      "1  3.660601e+00  3.907349e+00  8.326673e-17  4.440892e-16 -3.885781e-16   \n",
      "2  2.095999e-16  3.447924e+00  3.754159e+00 -2.775558e-16 -7.216450e-16   \n",
      "3 -8.842419e-18  1.398204e-15  3.229189e+00  3.551385e+00 -5.551115e-17   \n",
      "4 -3.603607e-16 -3.389931e-16 -9.964738e-16  2.923360e+00  3.266728e+00   \n",
      "5  3.024612e-16 -5.614946e-16  7.299346e-18 -6.223904e-16  2.487656e+00   \n",
      "6 -2.068716e-16 -3.038926e-16  6.609063e-16 -5.156604e-16  4.440892e-16   \n",
      "\n",
      "              5             6  \n",
      "0 -3.608225e-16 -1.387779e-16  \n",
      "1 -7.216450e-16 -3.885781e-16  \n",
      "2 -2.775558e-16  0.000000e+00  \n",
      "3 -1.110223e-16 -2.220446e-16  \n",
      "4 -4.440892e-16 -3.330669e-16  \n",
      "5  2.871138e+00  0.000000e+00  \n",
      "6  1.827930e+00  2.306513e+00  \n"
     ]
    }
   ],
   "source": [
    "Giv = Bulge_chasing_lower(s, x, n)\n",
    "#видно, что матрица верхняя бидиагональная\n",
    "print(pandas.DataFrame(Giv.apply(Sigma)))"
   ]
  },
  {
   "cell_type": "code",
   "execution_count": null,
   "metadata": {},
   "outputs": [],
   "source": []
  }
 ],
 "metadata": {
  "kernelspec": {
   "display_name": "Python 3",
   "language": "python",
   "name": "python3"
  },
  "language_info": {
   "codemirror_mode": {
    "name": "ipython",
    "version": 3
   },
   "file_extension": ".py",
   "mimetype": "text/x-python",
   "name": "python",
   "nbconvert_exporter": "python",
   "pygments_lexer": "ipython3",
   "version": "3.7.3"
  }
 },
 "nbformat": 4,
 "nbformat_minor": 4
}
