{
 "cells": [
  {
   "cell_type": "code",
   "execution_count": 1,
   "metadata": {},
   "outputs": [],
   "source": [
    "import numpy as np\n",
    "import math\n",
    "import os,sys,inspect\n",
    "currentdir = os.path.dirname(os.path.abspath(inspect.getfile(inspect.currentframe())))\n",
    "parentdir = os.path.dirname(currentdir)\n",
    "sys.path.insert(0,parentdir) \n",
    "\n",
    "from Algorithm_2 import Algorithm_2\n",
    "from func.Select_Index import Select_Columns, Select_Rows, Select_Ind\n",
    "\n",
    "import itertools \n",
    "from itertools import combinations, chain"
   ]
  },
  {
   "cell_type": "code",
   "execution_count": 2,
   "metadata": {},
   "outputs": [],
   "source": [
    "def findsubsets(r, n): \n",
    "    s = range(0, n)\n",
    "    return list(itertools.combinations(s, r)) \n",
    "\n",
    "\n",
    "#print(findsubsets())\n",
    "\n",
    "def Check_Best_CUR(A, k):\n",
    "    \n",
    "    ans = math.inf\n",
    "    columns = []\n",
    "    rows = []\n",
    "    \n",
    "    m = A.shape[0]\n",
    "    n = A.shape[1]\n",
    "    \n",
    "    Cols = findsubsets(k, n)\n",
    "    Rows = findsubsets(k, m)\n",
    "    \n",
    "    for col__ in Cols:\n",
    "        for row__ in Rows:\n",
    "            \n",
    "            col = list(col__)\n",
    "            row = list(row__)\n",
    "            \n",
    "            C  = Select_Columns(A, col)\n",
    "            R  = Select_Rows(A, row)\n",
    "            U = np.linalg.pinv(C) @ A @ np.linalg.pinv(R)\n",
    "            \n",
    "            norm = np.linalg.norm(A - C @ U @ R)\n",
    "            if(norm < ans):\n",
    "                ans = norm\n",
    "                columns = col\n",
    "                rows = row\n",
    "            \n",
    "    return ans, columns, rows"
   ]
  },
  {
   "cell_type": "code",
   "execution_count": 3,
   "metadata": {},
   "outputs": [
    {
     "name": "stdout",
     "output_type": "stream",
     "text": [
      "A = \n",
      " [[4.09370537 5.11555265 9.47667167 6.80476903 7.16444152 0.04102005\n",
      "  4.08642972]\n",
      " [7.58446911 5.04288377 3.77220532 5.50577692 8.44520254 9.35785032\n",
      "  5.83016782]\n",
      " [7.16624748 7.44126021 6.81130753 8.82358591 3.51366826 7.06401586\n",
      "  4.61589052]\n",
      " [0.83631032 7.59925121 6.54215725 0.17574694 2.17390163 6.40459661\n",
      "  0.63929317]\n",
      " [3.91215453 6.07452382 0.33520986 7.66587625 4.98252022 5.0869667\n",
      "  5.44990593]]\n",
      "our answer : 13.93195012805814 \n",
      "true answer : 13.519459528624717\n",
      "\n",
      "True sets: \n",
      "Cols :\n",
      " [1, 6]\n",
      "\n",
      "Rows :\n",
      " [2, 3]\n",
      "\n",
      "Our sets: \n",
      "Cols :\n",
      " [2, 6]\n",
      "\n",
      "Rows :\n",
      " [0, 4]\n",
      "\n"
     ]
    }
   ],
   "source": [
    "m = 5\n",
    "n = 7\n",
    "k = 2\n",
    "\n",
    "A = np.random.rand(m, n) * 10\n",
    "\n",
    "print(\"A = \\n\", A)\n",
    "\n",
    "C, U, R, our_col, our_row = Algorithm_2(A, k) \n",
    "\n",
    "our_ans = np.linalg.norm(A - C @ U @ R) \n",
    "true_ans, true_col, true_row = Check_Best_CUR(A, k)\n",
    "\n",
    "\n",
    "print(\"our answer : {} \\ntrue answer : {}\\n\".format(our_ans, true_ans))\n",
    "\n",
    "print(\"True sets: \")\n",
    "print(\"Cols :\\n {}\\n\".format(true_col))\n",
    "print(\"Rows :\\n {}\\n\".format(true_row))\n",
    "\n",
    "print(\"Our sets: \")\n",
    "print(\"Cols :\\n {}\\n\".format(our_col))\n",
    "print(\"Rows :\\n {}\\n\".format(our_row))"
   ]
  },
  {
   "cell_type": "code",
   "execution_count": null,
   "metadata": {},
   "outputs": [],
   "source": []
  }
 ],
 "metadata": {
  "kernelspec": {
   "display_name": "Python 3",
   "language": "python",
   "name": "python3"
  },
  "language_info": {
   "codemirror_mode": {
    "name": "ipython",
    "version": 3
   },
   "file_extension": ".py",
   "mimetype": "text/x-python",
   "name": "python",
   "nbconvert_exporter": "python",
   "pygments_lexer": "ipython3",
   "version": "3.7.3"
  }
 },
 "nbformat": 4,
 "nbformat_minor": 4
}
